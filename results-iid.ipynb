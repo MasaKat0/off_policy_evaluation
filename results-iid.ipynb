{
 "cells": [
  {
   "cell_type": "code",
   "execution_count": 14,
   "metadata": {},
   "outputs": [],
   "source": [
    "%matplotlib inline"
   ]
  },
  {
   "cell_type": "code",
   "execution_count": 15,
   "metadata": {},
   "outputs": [],
   "source": [
    "import numpy as np\n",
    "import pandas as pd"
   ]
  },
  {
   "cell_type": "code",
   "execution_count": 16,
   "metadata": {},
   "outputs": [],
   "source": [
    "pol = 'TS'\n",
    "sample_size = 800\n",
    "\n",
    "dataname = ['satimage', 'mnist', 'letter', 'Sensorless', 'connect-4']\n",
    "\n",
    "for d in dataname:\n",
    "\n",
    "    true_list_array = pd.read_csv('exp_results/true_data_%s_samplesize_%d_pol_type_%s.csv'%(d, sample_size, pol), header=None).values .T[0]\n",
    "\n",
    "    est_ipw_list_array = pd.read_csv('exp_results/res_ipw_data_%s_samplesize_%d_pol_type_%s.csv'%(d, sample_size, pol), header=None).values \n",
    "    est_dm_list_array = pd.read_csv('exp_results/res_dm_sn_data_%s_samplesize_%d_pol_type_%s.csv'%(d, sample_size, pol), header=None).values \n",
    "    est_aipw_list_array = pd.read_csv('exp_results/res_aipw_data_%s_samplesize_%d_pol_type_%s.csv'%(d, sample_size, pol), header=None).values \n",
    "    #est_aipw_ddm_list_array = pd.read_csv('exp_results/res_aipw_ddm_data_%s_samplesize_%d_pol_type_%s.csv'%(d, sample_size, pol), header=None).values \n",
    "    est_a2ipw_list_array = pd.read_csv('exp_results/res_a2ipw_data_%s_samplesize_%d_pol_type_%s.csv'%(d, sample_size, pol), header=None).values \n",
    "    est_est_ipw_list_array = pd.read_csv('exp_results/res_est_ipw_data_%s_samplesize_%d_pol_type_%s.csv'%(d, sample_size, pol), header=None).values \n",
    "    est_dr_list_array = pd.read_csv('exp_results/res_dr_data_%s_samplesize_%d_pol_type_%s.csv'%(d, sample_size, pol), header=None).values \n",
    "    #est_dr_ddm_list_array = pd.read_csv('exp_results/res_dr_ddm_data_%s_samplesize_%d_pol_type_%s.csv'%(d, sample_size, pol), header=None).values \n",
    "    est_adr_list_array = pd.read_csv('exp_results/res_adr_data_%s_samplesize_%d_pol_type_%s.csv'%(d, sample_size, pol), header=None).values "
   ]
  },
  {
   "cell_type": "code",
   "execution_count": 66,
   "metadata": {},
   "outputs": [],
   "source": [
    "sample_size = 800\n",
    "\n",
    "d = 'connect-4'\n",
    "\n",
    "true_list_array = pd.read_csv('exp_results/true_data_%s_samplesize_%d.csv'%(d, sample_size), header=None).values \n",
    "\n",
    "est_ipw_list_array = pd.read_csv('exp_results/res_ipw_data_%s_samplesize_%d.csv'%(d, sample_size), header=None).values \n",
    "est_dm_list_array = pd.read_csv('exp_results/res_dm_sn_data_%s_samplesize_%d.csv'%(d, sample_size), header=None).values \n",
    "est_aipw_list_array = pd.read_csv('exp_results/res_aipw_data_%s_samplesize_%d.csv'%(d, sample_size), header=None).values \n",
    "#est_aipw_ddm_list_array = pd.read_csv('exp_results/res_aipw_ddm_data_%s_samplesize_%d_pol_type_%s.csv'%(d, sample_size, pol), header=None).values \n",
    "est_a2ipw_list_array = pd.read_csv('exp_results/res_a2ipw_data_%s_samplesize_%d.csv'%(d, sample_size), header=None).values \n",
    "est_est_ipw_list_array = pd.read_csv('exp_results/res_est_ipw_data_%s_samplesize_%d.csv'%(d, sample_size), header=None).values \n",
    "est_dr_list_array = pd.read_csv('exp_results/res_dr_data_%s_samplesize_%d.csv'%(d, sample_size), header=None).values \n",
    "#est_dr_ddm_list_array = pd.read_csv('exp_results/res_dr_ddm_data_%s_samplesize_%d_pol_type_%s.csv'%(d, sample_size, pol), header=None).values \n",
    "est_adr_list_array = pd.read_csv('exp_results/res_adr_data_%s_samplesize_%d.csv'%(d, sample_size), header=None).values "
   ]
  },
  {
   "cell_type": "code",
   "execution_count": 67,
   "metadata": {},
   "outputs": [],
   "source": [
    "error0 = est_ipw_list_array - true_list_array\n",
    "error1 = est_dm_list_array - true_list_array\n",
    "error2 = est_aipw_list_array - true_list_array\n",
    "#error3 = est_aipw_ddm_list_array - true_list_array\n",
    "error4 = est_a2ipw_list_array - true_list_array\n",
    "error5 = est_est_ipw_list_array - true_list_array\n",
    "error6 = est_dr_list_array - true_list_array\n",
    "#error7 = est_dr_ddm_list_array - true_list_array\n",
    "error8 = est_adr_list_array - true_list_array"
   ]
  },
  {
   "cell_type": "code",
   "execution_count": 68,
   "metadata": {},
   "outputs": [],
   "source": [
    "df = [np.sqrt(np.mean(error0**2, axis=0)), np.std(error0**2, axis=0), \n",
    "      np.sqrt(np.mean(error1**2, axis=0)), np.std(error1**2, axis=0), \n",
    "      np.sqrt(np.mean(error2**2, axis=0)), np.std(error2**2, axis=0), \n",
    "      np.sqrt(np.mean(error4**2, axis=0)), np.std(error4**2, axis=0), \n",
    "      np.sqrt(np.mean(error5**2, axis=0)), np.std(error5**2, axis=0), \n",
    "      np.sqrt(np.mean(error6**2, axis=0)), np.std(error6**2, axis=0), \n",
    "      np.sqrt(np.mean(error8**2, axis=0)), np.std(error8**2, axis=0)] \n",
    "df = pd.DataFrame(df)\n",
    "\n"
   ]
  },
  {
   "cell_type": "code",
   "execution_count": 69,
   "metadata": {
    "scrolled": true
   },
   "outputs": [
    {
     "name": "stdout",
     "output_type": "stream",
     "text": [
      "\\begin{tabular}{lrrrrrrrrrrrrrr}\n",
      "\\toprule\n",
      "{} &      0 &      1 &      2 &      3 &      4 &      5 &      6 &      7 &      8 &      9 &     10 &     11 &     12 &     13 \\\\\n",
      "\\midrule\n",
      "0 &  0.014 &  0.000 &  0.009 &  0.000 &  0.007 &  0.000 &  0.009 &  0.000 &  0.406 &  0.022 &  0.074 &  0.002 &  0.075 &  0.002 \\\\\n",
      "1 &  0.019 &  0.000 &  0.021 &  0.000 &  0.010 &  0.000 &  0.015 &  0.000 &  0.231 &  0.010 &  0.043 &  0.001 &  0.052 &  0.002 \\\\\n",
      "2 &  0.039 &  0.002 &  0.054 &  0.002 &  0.024 &  0.001 &  0.026 &  0.001 &  0.058 &  0.002 &  0.027 &  0.001 &  0.022 &  0.001 \\\\\n",
      "\\bottomrule\n",
      "\\end{tabular}\n",
      "\n"
     ]
    }
   ],
   "source": [
    "print(np.round(df.T, 3).to_latex())"
   ]
  },
  {
   "cell_type": "code",
   "execution_count": 59,
   "metadata": {},
   "outputs": [
    {
     "data": {
      "text/plain": [
       "array([[ 0.01472628,  0.02311026,  0.09044437],\n",
       "       [ 0.02397879, -0.00124383,  0.05600025],\n",
       "       [-0.00356915,  0.02946899, -0.06207426],\n",
       "       [ 0.03683188, -0.0127671 , -0.05307359],\n",
       "       [-0.04384289,  0.00396131, -0.06659591],\n",
       "       [-0.02118015, -0.07230807,  0.05786192],\n",
       "       [-0.02841348,  0.01907346, -0.03609961],\n",
       "       [ 0.02523136, -0.00161095, -0.03072817],\n",
       "       [-0.02644691,  0.02951406,  0.01030625],\n",
       "       [ 0.00355333, -0.01534207,  0.02390498]])"
      ]
     },
     "execution_count": 59,
     "metadata": {},
     "output_type": "execute_result"
    }
   ],
   "source": [
    "error0"
   ]
  },
  {
   "cell_type": "code",
   "execution_count": 60,
   "metadata": {},
   "outputs": [
    {
     "ename": "ValueError",
     "evalue": "points have dimension 1, dataset has dimension 10",
     "output_type": "error",
     "traceback": [
      "\u001b[0;31m---------------------------------------------------------------------------\u001b[0m",
      "\u001b[0;31mValueError\u001b[0m                                Traceback (most recent call last)",
      "\u001b[0;32m<ipython-input-60-8ef94de0df1e>\u001b[0m in \u001b[0;36m<module>\u001b[0;34m\u001b[0m\n\u001b[1;32m     10\u001b[0m \u001b[0;34m\u001b[0m\u001b[0m\n\u001b[1;32m     11\u001b[0m \u001b[0mkde\u001b[0m \u001b[0;34m=\u001b[0m \u001b[0mgaussian_kde\u001b[0m\u001b[0;34m(\u001b[0m\u001b[0merror0\u001b[0m\u001b[0;34m)\u001b[0m\u001b[0;34m\u001b[0m\u001b[0;34m\u001b[0m\u001b[0m\n\u001b[0;32m---> 12\u001b[0;31m \u001b[0mplt\u001b[0m\u001b[0;34m.\u001b[0m\u001b[0mplot\u001b[0m\u001b[0;34m(\u001b[0m\u001b[0mls\u001b[0m\u001b[0;34m,\u001b[0m \u001b[0mkde\u001b[0m\u001b[0;34m(\u001b[0m\u001b[0mls\u001b[0m\u001b[0;34m)\u001b[0m\u001b[0;34m,\u001b[0m \u001b[0mlabel\u001b[0m\u001b[0;34m=\u001b[0m\u001b[0;34m'IPW'\u001b[0m\u001b[0;34m,\u001b[0m \u001b[0mlinewidth\u001b[0m \u001b[0;34m=\u001b[0m \u001b[0;36m3.0\u001b[0m\u001b[0;34m,\u001b[0m  \u001b[0mlinestyle\u001b[0m\u001b[0;34m=\u001b[0m\u001b[0;34m'-'\u001b[0m\u001b[0;34m)\u001b[0m\u001b[0;34m\u001b[0m\u001b[0;34m\u001b[0m\u001b[0m\n\u001b[0m\u001b[1;32m     13\u001b[0m \u001b[0;34m\u001b[0m\u001b[0m\n\u001b[1;32m     14\u001b[0m \u001b[0mkde\u001b[0m \u001b[0;34m=\u001b[0m \u001b[0mgaussian_kde\u001b[0m\u001b[0;34m(\u001b[0m\u001b[0merror1\u001b[0m\u001b[0;34m)\u001b[0m\u001b[0;34m\u001b[0m\u001b[0;34m\u001b[0m\u001b[0m\n",
      "\u001b[0;32m~/opt/anaconda3/lib/python3.7/site-packages/scipy/stats/kde.py\u001b[0m in \u001b[0;36mevaluate\u001b[0;34m(self, points)\u001b[0m\n\u001b[1;32m    240\u001b[0m                 msg = \"points have dimension %s, dataset has dimension %s\" % (d,\n\u001b[1;32m    241\u001b[0m                     self.d)\n\u001b[0;32m--> 242\u001b[0;31m                 \u001b[0;32mraise\u001b[0m \u001b[0mValueError\u001b[0m\u001b[0;34m(\u001b[0m\u001b[0mmsg\u001b[0m\u001b[0;34m)\u001b[0m\u001b[0;34m\u001b[0m\u001b[0;34m\u001b[0m\u001b[0m\n\u001b[0m\u001b[1;32m    243\u001b[0m \u001b[0;34m\u001b[0m\u001b[0m\n\u001b[1;32m    244\u001b[0m         \u001b[0mresult\u001b[0m \u001b[0;34m=\u001b[0m \u001b[0mzeros\u001b[0m\u001b[0;34m(\u001b[0m\u001b[0;34m(\u001b[0m\u001b[0mm\u001b[0m\u001b[0;34m,\u001b[0m\u001b[0;34m)\u001b[0m\u001b[0;34m,\u001b[0m \u001b[0mdtype\u001b[0m\u001b[0;34m=\u001b[0m\u001b[0mfloat\u001b[0m\u001b[0;34m)\u001b[0m\u001b[0;34m\u001b[0m\u001b[0;34m\u001b[0m\u001b[0m\n",
      "\u001b[0;31mValueError\u001b[0m: points have dimension 1, dataset has dimension 10"
     ]
    },
    {
     "data": {
      "text/plain": [
       "<Figure size 720x432 with 0 Axes>"
      ]
     },
     "metadata": {},
     "output_type": "display_data"
    }
   ],
   "source": [
    "import numpy as np\n",
    "from scipy.stats import gaussian_kde\n",
    "import matplotlib.pyplot as plt\n",
    "\n",
    "plt.figure(figsize=(10, 6))\n",
    "\n",
    "limmin = -0.25\n",
    "limmax = 0.25\n",
    "ls = np.linspace(limmin, limmax, 1000)\n",
    "\n",
    "kde = gaussian_kde(error0)\n",
    "plt.plot(ls, kde(ls), label='IPW', linewidth = 3.0,  linestyle='-')\n",
    "\n",
    "kde = gaussian_kde(error1)\n",
    "plt.plot(ls, kde(ls), label='DM', linewidth = 3.0,  linestyle='--')\n",
    "\n",
    "#kde = gaussian_kde(error2)\n",
    "#plt.plot(ls, kde(ls), label='AIPW', linewidth = 3.0,  linestyle=':')\n",
    "\n",
    "kde = gaussian_kde(error3)\n",
    "plt.plot(ls, kde(ls), label='AIPWCF', linewidth = 3.0,  linestyle='-.')\n",
    "\n",
    "kde = gaussian_kde(error4)\n",
    "plt.plot(ls, kde(ls), label='A2IPW', linewidth = 3.0,  linestyle='-')\n",
    "\n",
    "kde = gaussian_kde(error5)\n",
    "plt.plot(ls, kde(ls), label='EIPW', linewidth = 3.0,  linestyle='--')\n",
    "\n",
    "#kde = gaussian_kde(error6)\n",
    "#plt.plot(ls, kde(ls), label='DR', linewidth = 3.0,  linestyle=':')\n",
    "\n",
    "kde = gaussian_kde(error7)\n",
    "plt.plot(ls, kde(ls), label='DRCF', linewidth = 3.0,  linestyle='-.')\n",
    "\n",
    "kde = gaussian_kde(error8)\n",
    "plt.plot(ls, kde(ls), label='ADR', linewidth =3.0,  linestyle='-')\n",
    "\n",
    "p = plt.vlines([0], 0, 8.5, \"black\", linestyles='dashed') \n",
    "plt.xlabel('Errors', fontsize=30)\n",
    "plt.yticks([])\n",
    "plt.yticks(fontsize=30)\n",
    "plt.xticks([-0.25, -0.1, 0, 0.1, 0.25])\n",
    "plt.xticks(fontsize=30)\n",
    "plt.ylim(0,10)\n",
    "plt.legend(fontsize=17)"
   ]
  },
  {
   "cell_type": "code",
   "execution_count": 61,
   "metadata": {},
   "outputs": [
    {
     "data": {
      "text/plain": [
       "0.008137462586856808"
      ]
     },
     "execution_count": 61,
     "metadata": {},
     "output_type": "execute_result"
    }
   ],
   "source": [
    "np.mean(error8**2)"
   ]
  },
  {
   "cell_type": "code",
   "execution_count": 72,
   "metadata": {},
   "outputs": [
    {
     "data": {
      "text/plain": [
       "0.0019135989067154355"
      ]
     },
     "execution_count": 72,
     "metadata": {},
     "output_type": "execute_result"
    }
   ],
   "source": [
    "np.mean(error7**2)"
   ]
  },
  {
   "cell_type": "code",
   "execution_count": 73,
   "metadata": {},
   "outputs": [
    {
     "data": {
      "text/plain": [
       "0.001816255753088232"
      ]
     },
     "execution_count": 73,
     "metadata": {},
     "output_type": "execute_result"
    }
   ],
   "source": [
    "np.mean(error6**2)"
   ]
  },
  {
   "cell_type": "code",
   "execution_count": 74,
   "metadata": {},
   "outputs": [
    {
     "data": {
      "text/plain": [
       "0.005258183163579136"
      ]
     },
     "execution_count": 74,
     "metadata": {},
     "output_type": "execute_result"
    }
   ],
   "source": [
    "np.mean(error4**2)"
   ]
  },
  {
   "cell_type": "code",
   "execution_count": 60,
   "metadata": {},
   "outputs": [
    {
     "data": {
      "text/plain": [
       "0.008604240387621061"
      ]
     },
     "execution_count": 60,
     "metadata": {},
     "output_type": "execute_result"
    }
   ],
   "source": [
    "np.mean(error2**2)"
   ]
  },
  {
   "cell_type": "code",
   "execution_count": null,
   "metadata": {},
   "outputs": [],
   "source": []
  }
 ],
 "metadata": {
  "kernelspec": {
   "display_name": "Python 3",
   "language": "python",
   "name": "python3"
  },
  "language_info": {
   "codemirror_mode": {
    "name": "ipython",
    "version": 3
   },
   "file_extension": ".py",
   "mimetype": "text/x-python",
   "name": "python",
   "nbconvert_exporter": "python",
   "pygments_lexer": "ipython3",
   "version": "3.7.5"
  }
 },
 "nbformat": 4,
 "nbformat_minor": 2
}
