{
 "cells": [
  {
   "cell_type": "code",
   "execution_count": 1,
   "metadata": {},
   "outputs": [],
   "source": [
    "%matplotlib inline"
   ]
  },
  {
   "cell_type": "code",
   "execution_count": 2,
   "metadata": {},
   "outputs": [],
   "source": [
    "import numpy as np\n",
    "import argparse\n",
    "import sys\n",
    "\n",
    "from sklearn.model_selection import GridSearchCV\n",
    "from sklearn.datasets import load_svmlight_file\n",
    "from sklearn.decomposition import PCA\n",
    "\n",
    "from sklearn.linear_model import LogisticRegression\n",
    "from sklearn.kernel_ridge import KernelRidge\n",
    "from kernel_regression import KernelLogit\n",
    "\n",
    "from ope_estimators import OPEestimators"
   ]
  },
  {
   "cell_type": "code",
   "execution_count": 3,
   "metadata": {},
   "outputs": [],
   "source": [
    "def data_generation(data_name, N):\n",
    "    X, Y = load_svmlight_file('data/{}'.format(data_name))\n",
    "    X = X.toarray()\n",
    "    maxX = X.max(axis=0)\n",
    "    maxX[maxX == 0] = 1\n",
    "    X = X / maxX\n",
    "    Y = np.array(Y, np.int64)\n",
    "\n",
    "    perm = np.random.permutation(len(X))\n",
    "\n",
    "    X, Y = X[perm[:N]], Y[perm[:N]]\n",
    "\n",
    "    if data_name == 'satimage':\n",
    "        Y = Y - 1\n",
    "    elif data_name == 'vehicle':\n",
    "        Y = Y - 1\n",
    "    elif data_name == 'mnist':\n",
    "        pca = PCA(n_components=100).fit(X)\n",
    "        X = pca.transform(X)\n",
    "    elif data_name == 'letter':\n",
    "        Y = Y - 1\n",
    "    elif data_name == 'Sensorless':\n",
    "        Y = Y - 1\n",
    "    elif data_name == 'connect-4':\n",
    "        Y = Y + 1\n",
    "\n",
    "    classes = np.unique(Y)\n",
    "\n",
    "    Y_matrix = np.zeros(shape=(N, len(classes)))\n",
    "\n",
    "    for i in range(N):\n",
    "        Y_matrix[i, Y[i]] = 1\n",
    "\n",
    "    return X, Y, Y_matrix, classes\n",
    "\n",
    "\n",
    "def fit_logreg(X, Y):\n",
    "    return LogisticRegression(random_state=0, penalty='l2', C=0.1, solver='saga', multi_class='multinomial').fit(X, Y)\n",
    "\n",
    "\n",
    "def create_policy(X, classes, classifier, alpha=0.7):\n",
    "    N = len(X)\n",
    "    num_class = len(classes)\n",
    "\n",
    "    predict = np.array(classifier.predict(X), np.int64)\n",
    "\n",
    "    pi_predict = np.zeros(shape=(N, num_class))\n",
    "\n",
    "    for i in range(N):\n",
    "        pi_predict[i, predict[i]] = 1\n",
    "\n",
    "    pi_random = np.random.uniform(size=(N, num_class))\n",
    "\n",
    "    pi_random = pi_random.T\n",
    "    pi_random /= pi_random.sum(axis=0)\n",
    "    pi_random = pi_random.T\n",
    "\n",
    "    policy = alpha * pi_predict + (1 - alpha) * pi_random\n",
    "\n",
    "    return policy\n",
    "\n",
    "\n",
    "class Basic(object):\n",
    "    def __init__(self, num_arm, T):\n",
    "        self.num_arm = num_arm\n",
    "        self.sum_of_reward = np.zeros(num_arm)\n",
    "        self.num_of_trial = np.zeros(num_arm)\n",
    "        self.T = T\n",
    "\n",
    "\n",
    "class UCB(Basic):\n",
    "    def __init__(self, num_arm, T, dim, sigma2_0=1, sigma2=1, alpha=1):\n",
    "        super().__init__(num_arm, T)\n",
    "        self.ucb_score = np.zeros(num_arm)\n",
    "        self.identity = np.identity(dim)\n",
    "\n",
    "        self.sigma2_0 = sigma2_0\n",
    "        self.sigma2 = sigma2\n",
    "\n",
    "        self.A_inv_array = [(self.sigma2_0/self.sigma2) *\n",
    "                            self.identity for i in range(num_arm)]\n",
    "\n",
    "        self.b_array = [np.zeros((dim, 1)) for i in range(num_arm)]\n",
    "\n",
    "        self.alpha = alpha\n",
    "\n",
    "    def __call__(self, t, covariate):\n",
    "        alpha_t = self.alpha*np.sqrt(np.log(t+1))\n",
    "\n",
    "        for arm in range(self.num_arm):\n",
    "            theta = self.A_inv_array[arm].dot(self.b_array[arm])\n",
    "            m0 = covariate.T.dot(theta)\n",
    "            m1 = alpha_t * \\\n",
    "                np.sqrt(\n",
    "                    self.sigma2)*np.sqrt(covariate.T.dot(self.A_inv_array[arm]).dot(covariate))\n",
    "            self.ucb_score[arm] = m0 + m1\n",
    "\n",
    "        return np.argmax(self.ucb_score)\n",
    "\n",
    "    def update(self, arm, reward, covariate):\n",
    "        self.sum_of_reward[arm] += reward\n",
    "        self.num_of_trial[arm] += 1\n",
    "\n",
    "        A_inv_temp = self.A_inv_array[arm].copy()\n",
    "        A_inv_temp0 = A_inv_temp.dot(covariate).dot(\n",
    "            covariate.T).dot(A_inv_temp)\n",
    "        A_inv_temp1 = 1+covariate.T.dot(A_inv_temp).dot(covariate)\n",
    "        self.A_inv_array[arm] -= A_inv_temp0/A_inv_temp1\n",
    "\n",
    "        self.b_array[arm] += covariate*reward\n",
    "\n",
    "\n",
    "class TS(Basic):\n",
    "    def __init__(self, num_arm, T, dim, sigma2_0=1, sigma2=1, alpha=1):\n",
    "        super().__init__(num_arm, T)\n",
    "        self.ucb_score = np.zeros(num_arm)\n",
    "        self.identity = np.identity(dim)\n",
    "\n",
    "        self.sigma2_0 = sigma2_0\n",
    "        self.sigma2 = sigma2\n",
    "\n",
    "        self.A_inv_array = [(self.sigma2_0/self.sigma2) *\n",
    "                            self.identity for i in range(num_arm)]\n",
    "\n",
    "        self.b_array = [np.zeros((dim, 1)) for i in range(num_arm)]\n",
    "\n",
    "        self.alpha = alpha\n",
    "\n",
    "    def __call__(self, t, covariate):\n",
    "\n",
    "        for arm in range(self.num_arm):\n",
    "            mu = self.A_inv_array[arm].dot(self.b_array[arm])\n",
    "\n",
    "            theta = np.random.multivariate_normal(\n",
    "                mu.T[0], self.sigma2*self.A_inv_array[arm])\n",
    "\n",
    "            self.ucb_score[arm] = covariate.T.dot(theta)\n",
    "\n",
    "        return np.argmax(self.ucb_score)\n",
    "\n",
    "    def update(self, arm, reward, covariate):\n",
    "        self.sum_of_reward[arm] += reward\n",
    "        self.num_of_trial[arm] += 1\n",
    "\n",
    "        A_inv_temp = self.A_inv_array[arm].copy()\n",
    "        A_inv_temp0 = A_inv_temp.dot(covariate).dot(\n",
    "            covariate.T).dot(A_inv_temp)\n",
    "        A_inv_temp1 = 1+covariate.T.dot(A_inv_temp).dot(covariate)\n",
    "        self.A_inv_array[arm] -= A_inv_temp0/A_inv_temp1\n",
    "\n",
    "        self.b_array[arm] += covariate*reward\n",
    "\n",
    "\n",
    "def create_bandit_policy(X, classes, Y, policy_type='RW', predct_alg='Logit', tau=0.7):\n",
    "    sample_size, dim = X.shape\n",
    "    num_actions = len(classes)\n",
    "\n",
    "    chosen_action_matrix = np.zeros(shape=(sample_size, num_actions))\n",
    "    observed_outcome_matrix = np.zeros(shape=(sample_size, num_actions))\n",
    "\n",
    "    if policy_type == 'UCB':\n",
    "        pi_behavior_array = np.zeros((sample_size, num_actions))\n",
    "        next_candidate = np.random.uniform(0.01, 0.99, size=(1, num_actions))\n",
    "        next_candidate = next_candidate/np.sum(next_candidate)\n",
    "        pi_behavior_array[0] = next_candidate\n",
    "\n",
    "        ucb = UCB(num_arm=num_actions, T=sample_size,\n",
    "                  dim=dim, sigma2_0=5, sigma2=5)\n",
    "\n",
    "        for time in range(sample_size):\n",
    "            covariate_t = np.array([X[time]]).T\n",
    "\n",
    "            arm = ucb(time, covariate_t)\n",
    "            uni_rand = np.random.uniform(size=(num_actions))\n",
    "            uni_rand = uni_rand/np.sum(uni_rand)\n",
    "            prob = (1-tau)*uni_rand\n",
    "            prob[arm] += tau\n",
    "\n",
    "            pi_behavior_array[time] = prob\n",
    "\n",
    "            chosen_action = np.random.choice(\n",
    "                classes, p=pi_behavior_array[time])\n",
    "            observed_outcome = Y[time, chosen_action]\n",
    "\n",
    "            chosen_action_matrix[time, chosen_action] = 1\n",
    "            observed_outcome_matrix[time,\n",
    "                                    chosen_action] = observed_outcome\n",
    "\n",
    "            ucb.update(chosen_action,\n",
    "                       observed_outcome, covariate_t)\n",
    "\n",
    "    if policy_type == 'TS':\n",
    "        pi_behavior_array = np.zeros((sample_size, num_actions))\n",
    "        next_candidate = np.random.uniform(0.01, 0.99, size=(1, num_actions))\n",
    "        next_candidate = next_candidate/np.sum(next_candidate)\n",
    "        pi_behavior_array[0] = next_candidate\n",
    "\n",
    "        ts = TS(num_arm=num_actions, T=sample_size,\n",
    "                dim=dim, sigma2_0=1, sigma2=1)\n",
    "\n",
    "        for time in range(sample_size):\n",
    "            covariate_t = np.array([X[time]]).T\n",
    "\n",
    "            arm = ts(time, covariate_t)\n",
    "            uni_rand = np.random.uniform(size=(num_actions))\n",
    "            uni_rand = uni_rand/np.sum(uni_rand)\n",
    "\n",
    "            prob = (1-tau)*uni_rand\n",
    "            prob[arm] += tau\n",
    "\n",
    "            pi_behavior_array[time] = prob\n",
    "\n",
    "            chosen_action = np.random.choice(\n",
    "                classes, p=prob)\n",
    "            observed_outcome = Y[time, chosen_action]\n",
    "\n",
    "            chosen_action_matrix[time, chosen_action] = 1\n",
    "            observed_outcome_matrix[time,\n",
    "                                    chosen_action] = observed_outcome\n",
    "\n",
    "            ts.update(chosen_action,\n",
    "                      observed_outcome, covariate_t)\n",
    "\n",
    "    return pi_behavior_array, observed_outcome_matrix, chosen_action_matrix\n",
    "\n",
    "\n",
    "def true_value(Y_matrix, pi_evaluation):\n",
    "    return np.sum(Y_matrix * pi_evaluation) / len(pi_evaluation)\n",
    "\n",
    "\n",
    "def sample_by_behavior(Y_matrix, pi_behavior, classes):\n",
    "    sample_size = len(Y_matrix)\n",
    "    Y_observed_matrix = np.zeros(shape=(sample_size, len(classes)))\n",
    "    A_observed_matrix = np.zeros(shape=(sample_size, len(classes)))\n",
    "\n",
    "    for i in range(sample_size):\n",
    "        a = np.random.choice(classes, p=pi_behavior[i])\n",
    "        Y_observed_matrix[i, a] = Y_matrix[i, a]\n",
    "        A_observed_matrix[i, a] = 1\n",
    "\n",
    "    return Y_observed_matrix, A_observed_matrix"
   ]
  },
  {
   "cell_type": "code",
   "execution_count": 60,
   "metadata": {},
   "outputs": [],
   "source": [
    "KernelRidge_hyp_param = {'alpha': [0.01, 0.1, 1], 'gamma': [0.01, 0.1, 1]}\n",
    "KernelLogit_sigma_list = np.array([0.01, 0.1, 1])\n",
    "KernelLogit_lda_list = np.array([0.01, 0.1, 1])\n",
    "\n",
    "\n",
    "def kernel_ridge_estimator(X, Y, Z, cv=5):\n",
    "    model = KernelRidge(kernel='rbf')\n",
    "    model = GridSearchCV(\n",
    "        model, {'alpha': [0.01, 0.1, 1], 'gamma': [0.01, 0.1, 1]}, cv=cv)\n",
    "    model.fit(X, Y)\n",
    "    return model.predict(Z)\n",
    "\n",
    "\n",
    "def kernel_logit_estimator(X, Y, Z, cv=5):\n",
    "    model, KX, KZ = KernelLogit(X, Y, Z, folds=cv, num_basis=100,\n",
    "                                sigma_list=KernelLogit_sigma_list,\n",
    "                                lda_list=KernelLogit_lda_list, algorithm='Ridge')\n",
    "    model.fit(KX, Y)\n",
    "    return model.predict_proba(KZ)\n",
    "\n",
    "\n",
    "class OPEestimators():\n",
    "    def __init__(self, classes, pi_evaluation, pi_behavior=None):\n",
    "        self.classes = classes\n",
    "        self.pi_behavior = pi_behavior\n",
    "        self.pi_evaluation = pi_evaluation\n",
    "\n",
    "    def fit(self, X, A, Y_matrix, est_type,\n",
    "            outcome_estimator=kernel_ridge_estimator,\n",
    "            policy_estimator=kernel_logit_estimator,\n",
    "            warning_samples=10):\n",
    "        self.X = X\n",
    "        self.N_hst, self.dim = X.shape\n",
    "        self.A = A\n",
    "        self.Y = Y_matrix\n",
    "        self.warning_samples = warning_samples\n",
    "\n",
    "        self.outcome_estimator = kernel_ridge_estimator\n",
    "        self.policy_estimator = kernel_logit_estimator\n",
    "\n",
    "        warnings.simplefilter('ignore')\n",
    "\n",
    "        if est_type == 'ipw':\n",
    "            theta, var  = self.ipw()\n",
    "        if est_type == 'dm':\n",
    "            theta, var  = self.dm()\n",
    "        if est_type == 'aipw':\n",
    "            theta, var  = self.aipw()\n",
    "        if est_type == 'a2ipw':\n",
    "            theta, var  = self.a2ipw()\n",
    "        if est_type == 'adr':\n",
    "            theta, var = self.adr()\n",
    "        if est_type == 'dr':\n",
    "            theta, var = self.dr()\n",
    "        if est_type == 'doublyrobust':\n",
    "            theta, var = self.doublyrobust()\n",
    "\n",
    "        return theta, var\n",
    "\n",
    "    def aipw(self, folds=2):\n",
    "        theta_list = []\n",
    "\n",
    "        cv_fold = np.arange(folds)\n",
    "        cv_split0 = np.floor(np.arange(self.N_hst)*folds/self.N_hst)\n",
    "        cv_index = cv_split0[np.random.permutation(self.N_hst)]\n",
    "\n",
    "        x_cv = []\n",
    "        a_cv = []\n",
    "        y_cv = []\n",
    "        pi_bhv_cv = []\n",
    "        pi_evl_cv = []\n",
    "\n",
    "        for k in cv_fold:\n",
    "            x_cv.append(self.X[cv_index == k])\n",
    "            a_cv.append(self.A[cv_index == k])\n",
    "            y_cv.append(self.Y[cv_index == k])\n",
    "\n",
    "            pi_bhv_cv.append(self.pi_behavior[cv_index == k])\n",
    "            pi_evl_cv.append(self.pi_evaluation[cv_index == k])\n",
    "\n",
    "        for k in range(folds):\n",
    "            count = 0\n",
    "            for j in range(folds):\n",
    "                if j == k:\n",
    "                    x_te = x_cv[j]\n",
    "                    a_te = a_cv[j]\n",
    "                    y_te = y_cv[j]\n",
    "                    pi_bhv_te = pi_bhv_cv[j]\n",
    "                    pi_evl_te = pi_evl_cv[j]\n",
    "\n",
    "                if j != k:\n",
    "                    if count == 0:\n",
    "                        x_tr = x_cv[j]\n",
    "                        a_tr = a_cv[j]\n",
    "                        y_tr = y_cv[j]\n",
    "                        pi_bhv_tr = pi_bhv_cv[j]\n",
    "                        pi_evl_tr = pi_evl_cv[j]\n",
    "                        count += 1\n",
    "                    else:\n",
    "                        x_tr = np.append(x_tr, x_cv[j], axis=0)\n",
    "                        a_tr = np.append(a_tr, a_cv[j], axis=0)\n",
    "                        y_tr = np.append(y_tr, y_cv[j], axis=0)\n",
    "                        pi_bhv_tr = np.append(pi_bhv_tr, pi_bhv_cv[j], axis=0)\n",
    "                        pi_evl_tr = np.append(pi_evl_tr, pi_evl_cv[j], axis=0)\n",
    "\n",
    "            densratio_matrix = pi_evl_te/pi_bhv_te\n",
    "\n",
    "            f_matrix = np.zeros(shape=(len(x_te), len(self.classes)))\n",
    "\n",
    "            for c in self.classes:\n",
    "                f_matrix[:, c] = self.outcome_estimator(\n",
    "                    x_tr[a_tr[:, c] == 1], y_tr[:, c][a_tr[:, c] == 1], x_te)\n",
    "\n",
    "            # weight = np.ones(shape=a_te.shape)*np.sum(a_te/pi_bhv_te, axis=0)\n",
    "            weight = len(a_te)\n",
    "            theta = np.sum(a_te*(y_te-f_matrix)*densratio_matrix /\n",
    "                           weight) + np.sum(f_matrix*pi_evl_te/weight)\n",
    "\n",
    "            theta_list.append(theta)\n",
    "\n",
    "        theta =  np.mean(theta_list)\n",
    "            \n",
    "        densratio_matrix = self.pi_evaluation/self.pi_behavior\n",
    "\n",
    "        f_matrix = np.zeros(shape=(self.N_hst, len(self.classes)))\n",
    "\n",
    "        for c in self.classes:\n",
    "            for t in range(self.N_hst):\n",
    "                if np.sum(self.A[:t, c] == 1) > self.warning_samples:\n",
    "                    f_matrix[t, c] = self.outcome_estimator(\n",
    "                        self.X[:t][self.A[:t, c] == 1],\n",
    "                        self.Y[:t][:t, c][self.A[:t, c] == 1],\n",
    "                        [self.X[t]])\n",
    "                else:\n",
    "                    f_matrix[t, c] = 0\n",
    "\n",
    "        # weight = np.ones(shape=a_te.shape)*np.sum(a_te/pi_bhv_te, axis=0)\n",
    "        score = np.sum(self.A*(self.Y-f_matrix)*densratio_matrix, axis=1) + np.sum(f_matrix*self.pi_evaluation, axis=1)\n",
    "        \n",
    "        var = np.mean((score - theta)**2)\n",
    "\n",
    "        return theta, var\n",
    "\n",
    "    def dr(self, folds=2):\n",
    "        theta_list = []\n",
    "\n",
    "        cv_fold = np.arange(folds)\n",
    "        cv_split0 = np.floor(np.arange(self.N_hst)*folds/self.N_hst)\n",
    "        cv_index = cv_split0[np.random.permutation(self.N_hst)]\n",
    "\n",
    "        x_cv = []\n",
    "        a_cv = []\n",
    "        y_cv = []\n",
    "        pi_evl_cv = []\n",
    "\n",
    "        for k in cv_fold:\n",
    "            x_cv.append(self.X[cv_index == k])\n",
    "            a_cv.append(self.A[cv_index == k])\n",
    "            y_cv.append(self.Y[cv_index == k])\n",
    "\n",
    "            pi_evl_cv.append(self.pi_evaluation[cv_index == k])\n",
    "\n",
    "        for k in range(folds):\n",
    "            count = 0\n",
    "            for j in range(folds):\n",
    "                if j == k:\n",
    "                    x_te = x_cv[j]\n",
    "                    a_te = a_cv[j]\n",
    "                    y_te = y_cv[j]\n",
    "                    pi_evl_te = pi_evl_cv[j]\n",
    "\n",
    "                if j != k:\n",
    "                    if count == 0:\n",
    "                        x_tr = x_cv[j]\n",
    "                        a_tr = a_cv[j]\n",
    "                        y_tr = y_cv[j]\n",
    "                        pi_evl_tr = pi_evl_cv[j]\n",
    "                        count += 1\n",
    "                    else:\n",
    "                        x_tr = np.append(x_tr, x_cv[j], axis=0)\n",
    "                        a_tr = np.append(a_tr, a_cv[j], axis=0)\n",
    "                        y_tr = np.append(y_tr, y_cv[j], axis=0)\n",
    "                        pi_evl_tr = np.append(pi_evl_tr, pi_evl_cv[j], axis=0)\n",
    "\n",
    "            a_temp = np.where(a_tr == 1)[1]\n",
    "            pi_bhv_te = kernel_logit_estimator(\n",
    "                x_tr, a_temp, x_te)\n",
    "\n",
    "            densratio_matrix = pi_evl_te/pi_bhv_te\n",
    "\n",
    "            f_matrix = np.zeros(shape=(len(x_te), len(self.classes)))\n",
    "\n",
    "            for c in self.classes:\n",
    "                f_matrix[:, c] = self.outcome_estimator(\n",
    "                    x_tr[a_tr[:, c] == 1], y_tr[:, c][a_tr[:, c] == 1], x_te)\n",
    "\n",
    "            # weight = np.ones(shape=a_te.shape)*np.sum(a_te/pi_bhv_te, axis=0)\n",
    "            weight = len(a_te)\n",
    "            theta = np.sum(a_te*(y_te-f_matrix)*densratio_matrix /\n",
    "                           weight) + np.sum(f_matrix*pi_evl_te/weight)\n",
    "\n",
    "            theta_list.append(theta)\n",
    "            \n",
    "        theta =  np.mean(theta_list)\n",
    "        \n",
    "        a_temp = np.where(self.A == 1)[1]\n",
    "        pi_behavior = kernel_logit_estimator(self.X, a_temp, self.X)\n",
    "            \n",
    "        densratio_matrix = self.pi_evaluation/pi_behavior\n",
    "\n",
    "        f_matrix = np.zeros(shape=(self.N_hst, len(self.classes)))\n",
    "\n",
    "        for c in self.classes:\n",
    "            for t in range(self.N_hst):\n",
    "                if np.sum(self.A[:t, c] == 1) > self.warning_samples:\n",
    "                    f_matrix[t, c] = self.outcome_estimator(\n",
    "                        self.X[:t][self.A[:t, c] == 1],\n",
    "                        self.Y[:t][:t, c][self.A[:t, c] == 1],\n",
    "                        [self.X[t]])\n",
    "                else:\n",
    "                    f_matrix[t, c] = 0\n",
    "\n",
    "        # weight = np.ones(shape=a_te.shape)*np.sum(a_te/pi_bhv_te, axis=0)\n",
    "        score = np.sum(self.A*(self.Y-f_matrix)*densratio_matrix, axis=1) + np.sum(f_matrix*self.pi_evaluation, axis=1)\n",
    "        \n",
    "        var = np.mean((score - theta)**2)\n",
    "\n",
    "        return theta, var\n",
    "\n",
    "    def a2ipw(self):\n",
    "        densratio_matrix = self.pi_evaluation/self.pi_behavior\n",
    "\n",
    "        f_matrix = np.zeros(shape=(self.N_hst, len(self.classes)))\n",
    "\n",
    "        for c in self.classes:\n",
    "            for t in range(self.N_hst):\n",
    "                if np.sum(self.A[:t, c] == 1) > self.warning_samples:\n",
    "                    f_matrix[t, c] = self.outcome_estimator(\n",
    "                        self.X[:t][self.A[:t, c] == 1],\n",
    "                        self.Y[:t][:t, c][self.A[:t, c] == 1],\n",
    "                        [self.X[t]])\n",
    "                else:\n",
    "                    f_matrix[t, c] = 0\n",
    "\n",
    "        # weight = np.ones(shape=a_te.shape)*np.sum(a_te/pi_bhv_te, axis=0)\n",
    "        score = np.sum(self.A*(self.Y-f_matrix)*densratio_matrix, axis=1) + np.sum(f_matrix*self.pi_evaluation, axis=1)\n",
    "        \n",
    "        theta = np.mean(score)\n",
    "        var = np.mean((score - theta)**2)\n",
    "\n",
    "        return theta, var\n",
    "\n",
    "    def adr(self):\n",
    "        theta_list = []\n",
    "\n",
    "        pi_behavior = np.copy(self.pi_evaluation)\n",
    "        pi_behavior[:] = 0.5\n",
    "\n",
    "        for t in range(1, self.N_hst):\n",
    "            if all(np.sum(self.A[:t, :] == 1, axis=0) > self.warning_samples):\n",
    "                a_temp = np.where(self.A[:t] == 1)[1]\n",
    "                pi_behavior[t, :] = kernel_logit_estimator(\n",
    "                    self.X[:t], a_temp, np.array([self.X[t]]))\n",
    "\n",
    "            else:\n",
    "                pi_behavior[t, :] = 0.5\n",
    "\n",
    "        densratio_matrix = self.pi_evaluation/pi_behavior\n",
    "\n",
    "        f_matrix = np.zeros(shape=(self.N_hst, len(self.classes)))\n",
    "\n",
    "        for c in self.classes:\n",
    "            for t in range(self.N_hst):\n",
    "                if np.sum(self.A[:t, c] == 1) > self.warning_samples:\n",
    "                    f_matrix[t, c] = self.outcome_estimator(\n",
    "                        self.X[:t][self.A[:t, c] == 1],\n",
    "                        self.Y[:t][:t, c][self.A[:t, c] == 1],\n",
    "                        [self.X[t]])\n",
    "                else:\n",
    "                    f_matrix[t, c] = 0\n",
    "\n",
    "        # weight = np.ones(shape=a_te.shape)*np.sum(a_te/pi_bhv_te, axis=0)\n",
    "        score = np.sum(self.A*(self.Y-f_matrix)*densratio_matrix, axis=1) + np.sum(f_matrix*self.pi_evaluation, axis=1)\n",
    "        \n",
    "        theta = np.mean(score)\n",
    "        var = np.mean((score - theta)**2)\n",
    "\n",
    "        return theta, var\n",
    "\n",
    "    def ipw(self):\n",
    "        if self.pi_behavior is None:\n",
    "            a_temp = np.where(self.A == 1)[1]\n",
    "            self.pi_behavior = kernel_logit_estimator(self.X, a_temp, self.X)\n",
    "\n",
    "        densratio = self.pi_evaluation/self.pi_behavior\n",
    "\n",
    "        # weight = np.ones(shape=self.A.shape)*np.sum(self.A/self.pi_behavior, axis=0)\n",
    "        weight = len(self.A)\n",
    "        \n",
    "        score = np.sum(self.A*self.Y*densratio, axis=1)\n",
    "        \n",
    "        theta = np.mean(score)\n",
    "        var = np.mean((score - theta)**2)\n",
    "\n",
    "        return theta, var\n",
    "    \n",
    "    def doublyrobust(self):\n",
    "        a_temp = np.where(self.A == 1)[1]\n",
    "        pi_behavior = kernel_logit_estimator(self.X, a_temp, self.X)\n",
    "\n",
    "        densratio = self.pi_evaluation/pi_behavior\n",
    "        \n",
    "        f_matrix = np.zeros(shape=(self.N_hst, len(self.classes)))\n",
    "\n",
    "        for c in self.classes:\n",
    "            f_matrix[:, c] = self.outcome_estimator(\n",
    "                self.X[self.A[:, c] == 1],\n",
    "                self.Y[:, c][self.A[:, c] == 1],\n",
    "                self.X)\n",
    "\n",
    "        # weight = np.ones(shape=self.A.shape)*np.sum(self.A/self.pi_behavior, axis=0)\n",
    "        \n",
    "        score = np.sum(self.A*(self.Y-f_matrix)*densratio, axis=1) + np.sum(f_matrix*self.pi_evaluation, axis=1)\n",
    "        \n",
    "        theta = np.mean(score)\n",
    "        var = np.mean((score - theta)**2)\n",
    "\n",
    "        return theta, var\n",
    "\n",
    "    def dm(self, method='Ridge'):\n",
    "        f_matrix = np.zeros(shape=(self.N_hst, len(self.classes)))\n",
    "\n",
    "        for c in self.classes:\n",
    "            f_matrix[:, c] = self.outcome_estimator(\n",
    "                self.X[self.A[:, c] == 1],\n",
    "                self.Y[:, c][self.A[:, c] == 1],\n",
    "                self.X)\n",
    "        \n",
    "        score = np.sum(f_matrix*self.pi_evaluation, axis=1)\n",
    "        theta = np.mean(score)\n",
    "        var = np.mean((score - theta)**2)\n",
    "\n",
    "        return theta, var\n",
    "    "
   ]
  },
  {
   "cell_type": "code",
   "execution_count": 61,
   "metadata": {},
   "outputs": [],
   "source": [
    "def data_generator(N=1000):\n",
    "    X = np.random.normal(size=(N, 10))\n",
    "    g0 = np.sum(X, axis=1)\n",
    "    g1 = np.sum(np.random.choice([-1, 1], size=(N, 10))*X**2, axis=1)\n",
    "    g2 = np.sum(np.random.choice([-1, 1], size=(N, 10))*np.abs(X), axis=1)\n",
    "\n",
    "    prob_array = np.zeros(shape=(N, 3))\n",
    "    prob_array[:, 0] = np.exp(g0)\n",
    "    prob_array[:, 1] = np.exp(g1)\n",
    "    prob_array[:, 2] = np.exp(g2)\n",
    "\n",
    "    prob_array = (prob_array.T/prob_array.sum(axis=1)).T\n",
    "\n",
    "    Y = np.zeros(shape=(N, 1))\n",
    "\n",
    "    for i in range(N):\n",
    "        Y[i] = np.random.choice([0, 1, 2], p=prob_array[i])\n",
    "    \n",
    "    Y = np.array(Y, np.int64)\n",
    "    Y_matrix = np.zeros(shape=(N, 3))\n",
    "\n",
    "    for i in range(N):\n",
    "        Y_matrix[i, Y[i]] = 1\n",
    "    \n",
    "    return X, Y, Y_matrix"
   ]
  },
  {
   "cell_type": "code",
   "execution_count": 62,
   "metadata": {},
   "outputs": [
    {
     "name": "stdout",
     "output_type": "stream",
     "text": [
      "0\n",
      "1\n",
      "2\n",
      "3\n",
      "4\n"
     ]
    },
    {
     "ename": "ValueError",
     "evalue": "Cannot have number of splits n_splits=5 greater than the number of samples: n_samples=4.",
     "output_type": "error",
     "traceback": [
      "\u001b[0;31m---------------------------------------------------------------------------\u001b[0m",
      "\u001b[0;31mValueError\u001b[0m                                Traceback (most recent call last)",
      "\u001b[0;32m<ipython-input-62-725a44b1a05b>\u001b[0m in \u001b[0;36m<module>\u001b[0;34m\u001b[0m\n\u001b[1;32m     50\u001b[0m     \u001b[0mest_ipw_list\u001b[0m\u001b[0;34m.\u001b[0m\u001b[0mappend\u001b[0m\u001b[0;34m(\u001b[0m\u001b[0mOPE\u001b[0m\u001b[0;34m.\u001b[0m\u001b[0mfit\u001b[0m\u001b[0;34m(\u001b[0m\u001b[0mX_hist\u001b[0m\u001b[0;34m,\u001b[0m \u001b[0mA_hist\u001b[0m\u001b[0;34m,\u001b[0m \u001b[0mY_hist\u001b[0m\u001b[0;34m,\u001b[0m \u001b[0mest_type\u001b[0m\u001b[0;34m=\u001b[0m\u001b[0;34m'ipw'\u001b[0m\u001b[0;34m)\u001b[0m \u001b[0;34m)\u001b[0m\u001b[0;34m\u001b[0m\u001b[0;34m\u001b[0m\u001b[0m\n\u001b[1;32m     51\u001b[0m     \u001b[0mest_dm_list\u001b[0m\u001b[0;34m.\u001b[0m\u001b[0mappend\u001b[0m\u001b[0;34m(\u001b[0m\u001b[0mOPE\u001b[0m\u001b[0;34m.\u001b[0m\u001b[0mfit\u001b[0m\u001b[0;34m(\u001b[0m\u001b[0mX_hist\u001b[0m\u001b[0;34m,\u001b[0m \u001b[0mA_hist\u001b[0m\u001b[0;34m,\u001b[0m \u001b[0mY_hist\u001b[0m\u001b[0;34m,\u001b[0m \u001b[0mest_type\u001b[0m\u001b[0;34m=\u001b[0m\u001b[0;34m'dm'\u001b[0m\u001b[0;34m)\u001b[0m \u001b[0;34m)\u001b[0m\u001b[0;34m\u001b[0m\u001b[0;34m\u001b[0m\u001b[0m\n\u001b[0;32m---> 52\u001b[0;31m     \u001b[0mest_aipw_list\u001b[0m\u001b[0;34m.\u001b[0m\u001b[0mappend\u001b[0m\u001b[0;34m(\u001b[0m\u001b[0mOPE\u001b[0m\u001b[0;34m.\u001b[0m\u001b[0mfit\u001b[0m\u001b[0;34m(\u001b[0m\u001b[0mX_hist\u001b[0m\u001b[0;34m,\u001b[0m \u001b[0mA_hist\u001b[0m\u001b[0;34m,\u001b[0m \u001b[0mY_hist\u001b[0m\u001b[0;34m,\u001b[0m \u001b[0mest_type\u001b[0m\u001b[0;34m=\u001b[0m\u001b[0;34m'aipw'\u001b[0m\u001b[0;34m)\u001b[0m \u001b[0;34m)\u001b[0m\u001b[0;34m\u001b[0m\u001b[0;34m\u001b[0m\u001b[0m\n\u001b[0m\u001b[1;32m     53\u001b[0m     \u001b[0mest_a2ipw_list\u001b[0m\u001b[0;34m.\u001b[0m\u001b[0mappend\u001b[0m\u001b[0;34m(\u001b[0m\u001b[0mOPE\u001b[0m\u001b[0;34m.\u001b[0m\u001b[0mfit\u001b[0m\u001b[0;34m(\u001b[0m\u001b[0mX_hist\u001b[0m\u001b[0;34m,\u001b[0m \u001b[0mA_hist\u001b[0m\u001b[0;34m,\u001b[0m \u001b[0mY_hist\u001b[0m\u001b[0;34m,\u001b[0m \u001b[0mest_type\u001b[0m\u001b[0;34m=\u001b[0m\u001b[0;34m'a2ipw'\u001b[0m\u001b[0;34m)\u001b[0m\u001b[0;34m)\u001b[0m\u001b[0;34m\u001b[0m\u001b[0;34m\u001b[0m\u001b[0m\n\u001b[1;32m     54\u001b[0m \u001b[0;34m\u001b[0m\u001b[0m\n",
      "\u001b[0;32m<ipython-input-60-a406b3329582>\u001b[0m in \u001b[0;36mfit\u001b[0;34m(self, X, A, Y_matrix, est_type, outcome_estimator, policy_estimator, warning_samples)\u001b[0m\n\u001b[1;32m     46\u001b[0m             \u001b[0mtheta\u001b[0m\u001b[0;34m,\u001b[0m \u001b[0mvar\u001b[0m  \u001b[0;34m=\u001b[0m \u001b[0mself\u001b[0m\u001b[0;34m.\u001b[0m\u001b[0mdm\u001b[0m\u001b[0;34m(\u001b[0m\u001b[0;34m)\u001b[0m\u001b[0;34m\u001b[0m\u001b[0;34m\u001b[0m\u001b[0m\n\u001b[1;32m     47\u001b[0m         \u001b[0;32mif\u001b[0m \u001b[0mest_type\u001b[0m \u001b[0;34m==\u001b[0m \u001b[0;34m'aipw'\u001b[0m\u001b[0;34m:\u001b[0m\u001b[0;34m\u001b[0m\u001b[0;34m\u001b[0m\u001b[0m\n\u001b[0;32m---> 48\u001b[0;31m             \u001b[0mtheta\u001b[0m\u001b[0;34m,\u001b[0m \u001b[0mvar\u001b[0m  \u001b[0;34m=\u001b[0m \u001b[0mself\u001b[0m\u001b[0;34m.\u001b[0m\u001b[0maipw\u001b[0m\u001b[0;34m(\u001b[0m\u001b[0;34m)\u001b[0m\u001b[0;34m\u001b[0m\u001b[0;34m\u001b[0m\u001b[0m\n\u001b[0m\u001b[1;32m     49\u001b[0m         \u001b[0;32mif\u001b[0m \u001b[0mest_type\u001b[0m \u001b[0;34m==\u001b[0m \u001b[0;34m'a2ipw'\u001b[0m\u001b[0;34m:\u001b[0m\u001b[0;34m\u001b[0m\u001b[0;34m\u001b[0m\u001b[0m\n\u001b[1;32m     50\u001b[0m             \u001b[0mtheta\u001b[0m\u001b[0;34m,\u001b[0m \u001b[0mvar\u001b[0m  \u001b[0;34m=\u001b[0m \u001b[0mself\u001b[0m\u001b[0;34m.\u001b[0m\u001b[0ma2ipw\u001b[0m\u001b[0;34m(\u001b[0m\u001b[0;34m)\u001b[0m\u001b[0;34m\u001b[0m\u001b[0;34m\u001b[0m\u001b[0m\n",
      "\u001b[0;32m<ipython-input-60-a406b3329582>\u001b[0m in \u001b[0;36maipw\u001b[0;34m(self, folds)\u001b[0m\n\u001b[1;32m    110\u001b[0m             \u001b[0;32mfor\u001b[0m \u001b[0mc\u001b[0m \u001b[0;32min\u001b[0m \u001b[0mself\u001b[0m\u001b[0;34m.\u001b[0m\u001b[0mclasses\u001b[0m\u001b[0;34m:\u001b[0m\u001b[0;34m\u001b[0m\u001b[0;34m\u001b[0m\u001b[0m\n\u001b[1;32m    111\u001b[0m                 f_matrix[:, c] = self.outcome_estimator(\n\u001b[0;32m--> 112\u001b[0;31m                     x_tr[a_tr[:, c] == 1], y_tr[:, c][a_tr[:, c] == 1], x_te)\n\u001b[0m\u001b[1;32m    113\u001b[0m \u001b[0;34m\u001b[0m\u001b[0m\n\u001b[1;32m    114\u001b[0m             \u001b[0;31m# weight = np.ones(shape=a_te.shape)*np.sum(a_te/pi_bhv_te, axis=0)\u001b[0m\u001b[0;34m\u001b[0m\u001b[0;34m\u001b[0m\u001b[0;34m\u001b[0m\u001b[0m\n",
      "\u001b[0;32m<ipython-input-60-a406b3329582>\u001b[0m in \u001b[0;36mkernel_ridge_estimator\u001b[0;34m(X, Y, Z, cv)\u001b[0m\n\u001b[1;32m      8\u001b[0m     model = GridSearchCV(\n\u001b[1;32m      9\u001b[0m         model, {'alpha': [0.01, 0.1, 1], 'gamma': [0.01, 0.1, 1]}, cv=cv)\n\u001b[0;32m---> 10\u001b[0;31m     \u001b[0mmodel\u001b[0m\u001b[0;34m.\u001b[0m\u001b[0mfit\u001b[0m\u001b[0;34m(\u001b[0m\u001b[0mX\u001b[0m\u001b[0;34m,\u001b[0m \u001b[0mY\u001b[0m\u001b[0;34m)\u001b[0m\u001b[0;34m\u001b[0m\u001b[0;34m\u001b[0m\u001b[0m\n\u001b[0m\u001b[1;32m     11\u001b[0m     \u001b[0;32mreturn\u001b[0m \u001b[0mmodel\u001b[0m\u001b[0;34m.\u001b[0m\u001b[0mpredict\u001b[0m\u001b[0;34m(\u001b[0m\u001b[0mZ\u001b[0m\u001b[0;34m)\u001b[0m\u001b[0;34m\u001b[0m\u001b[0;34m\u001b[0m\u001b[0m\n\u001b[1;32m     12\u001b[0m \u001b[0;34m\u001b[0m\u001b[0m\n",
      "\u001b[0;32m~/opt/anaconda3/lib/python3.7/site-packages/sklearn/utils/validation.py\u001b[0m in \u001b[0;36minner_f\u001b[0;34m(*args, **kwargs)\u001b[0m\n\u001b[1;32m     70\u001b[0m                           FutureWarning)\n\u001b[1;32m     71\u001b[0m         \u001b[0mkwargs\u001b[0m\u001b[0;34m.\u001b[0m\u001b[0mupdate\u001b[0m\u001b[0;34m(\u001b[0m\u001b[0;34m{\u001b[0m\u001b[0mk\u001b[0m\u001b[0;34m:\u001b[0m \u001b[0marg\u001b[0m \u001b[0;32mfor\u001b[0m \u001b[0mk\u001b[0m\u001b[0;34m,\u001b[0m \u001b[0marg\u001b[0m \u001b[0;32min\u001b[0m \u001b[0mzip\u001b[0m\u001b[0;34m(\u001b[0m\u001b[0msig\u001b[0m\u001b[0;34m.\u001b[0m\u001b[0mparameters\u001b[0m\u001b[0;34m,\u001b[0m \u001b[0margs\u001b[0m\u001b[0;34m)\u001b[0m\u001b[0;34m}\u001b[0m\u001b[0;34m)\u001b[0m\u001b[0;34m\u001b[0m\u001b[0;34m\u001b[0m\u001b[0m\n\u001b[0;32m---> 72\u001b[0;31m         \u001b[0;32mreturn\u001b[0m \u001b[0mf\u001b[0m\u001b[0;34m(\u001b[0m\u001b[0;34m**\u001b[0m\u001b[0mkwargs\u001b[0m\u001b[0;34m)\u001b[0m\u001b[0;34m\u001b[0m\u001b[0;34m\u001b[0m\u001b[0m\n\u001b[0m\u001b[1;32m     73\u001b[0m     \u001b[0;32mreturn\u001b[0m \u001b[0minner_f\u001b[0m\u001b[0;34m\u001b[0m\u001b[0;34m\u001b[0m\u001b[0m\n\u001b[1;32m     74\u001b[0m \u001b[0;34m\u001b[0m\u001b[0m\n",
      "\u001b[0;32m~/opt/anaconda3/lib/python3.7/site-packages/sklearn/model_selection/_search.py\u001b[0m in \u001b[0;36mfit\u001b[0;34m(self, X, y, groups, **fit_params)\u001b[0m\n\u001b[1;32m    734\u001b[0m                 \u001b[0;32mreturn\u001b[0m \u001b[0mresults\u001b[0m\u001b[0;34m\u001b[0m\u001b[0;34m\u001b[0m\u001b[0m\n\u001b[1;32m    735\u001b[0m \u001b[0;34m\u001b[0m\u001b[0m\n\u001b[0;32m--> 736\u001b[0;31m             \u001b[0mself\u001b[0m\u001b[0;34m.\u001b[0m\u001b[0m_run_search\u001b[0m\u001b[0;34m(\u001b[0m\u001b[0mevaluate_candidates\u001b[0m\u001b[0;34m)\u001b[0m\u001b[0;34m\u001b[0m\u001b[0;34m\u001b[0m\u001b[0m\n\u001b[0m\u001b[1;32m    737\u001b[0m \u001b[0;34m\u001b[0m\u001b[0m\n\u001b[1;32m    738\u001b[0m         \u001b[0;31m# For multi-metric evaluation, store the best_index_, best_params_ and\u001b[0m\u001b[0;34m\u001b[0m\u001b[0;34m\u001b[0m\u001b[0;34m\u001b[0m\u001b[0m\n",
      "\u001b[0;32m~/opt/anaconda3/lib/python3.7/site-packages/sklearn/model_selection/_search.py\u001b[0m in \u001b[0;36m_run_search\u001b[0;34m(self, evaluate_candidates)\u001b[0m\n\u001b[1;32m   1186\u001b[0m     \u001b[0;32mdef\u001b[0m \u001b[0m_run_search\u001b[0m\u001b[0;34m(\u001b[0m\u001b[0mself\u001b[0m\u001b[0;34m,\u001b[0m \u001b[0mevaluate_candidates\u001b[0m\u001b[0;34m)\u001b[0m\u001b[0;34m:\u001b[0m\u001b[0;34m\u001b[0m\u001b[0;34m\u001b[0m\u001b[0m\n\u001b[1;32m   1187\u001b[0m         \u001b[0;34m\"\"\"Search all candidates in param_grid\"\"\"\u001b[0m\u001b[0;34m\u001b[0m\u001b[0;34m\u001b[0m\u001b[0m\n\u001b[0;32m-> 1188\u001b[0;31m         \u001b[0mevaluate_candidates\u001b[0m\u001b[0;34m(\u001b[0m\u001b[0mParameterGrid\u001b[0m\u001b[0;34m(\u001b[0m\u001b[0mself\u001b[0m\u001b[0;34m.\u001b[0m\u001b[0mparam_grid\u001b[0m\u001b[0;34m)\u001b[0m\u001b[0;34m)\u001b[0m\u001b[0;34m\u001b[0m\u001b[0;34m\u001b[0m\u001b[0m\n\u001b[0m\u001b[1;32m   1189\u001b[0m \u001b[0;34m\u001b[0m\u001b[0m\n\u001b[1;32m   1190\u001b[0m \u001b[0;34m\u001b[0m\u001b[0m\n",
      "\u001b[0;32m~/opt/anaconda3/lib/python3.7/site-packages/sklearn/model_selection/_search.py\u001b[0m in \u001b[0;36mevaluate_candidates\u001b[0;34m(candidate_params)\u001b[0m\n\u001b[1;32m    713\u001b[0m                                \u001b[0;32mfor\u001b[0m \u001b[0mparameters\u001b[0m\u001b[0;34m,\u001b[0m \u001b[0;34m(\u001b[0m\u001b[0mtrain\u001b[0m\u001b[0;34m,\u001b[0m \u001b[0mtest\u001b[0m\u001b[0;34m)\u001b[0m\u001b[0;34m\u001b[0m\u001b[0;34m\u001b[0m\u001b[0m\n\u001b[1;32m    714\u001b[0m                                in product(candidate_params,\n\u001b[0;32m--> 715\u001b[0;31m                                           cv.split(X, y, groups)))\n\u001b[0m\u001b[1;32m    716\u001b[0m \u001b[0;34m\u001b[0m\u001b[0m\n\u001b[1;32m    717\u001b[0m                 \u001b[0;32mif\u001b[0m \u001b[0mlen\u001b[0m\u001b[0;34m(\u001b[0m\u001b[0mout\u001b[0m\u001b[0;34m)\u001b[0m \u001b[0;34m<\u001b[0m \u001b[0;36m1\u001b[0m\u001b[0;34m:\u001b[0m\u001b[0;34m\u001b[0m\u001b[0;34m\u001b[0m\u001b[0m\n",
      "\u001b[0;32m~/opt/anaconda3/lib/python3.7/site-packages/sklearn/model_selection/_split.py\u001b[0m in \u001b[0;36msplit\u001b[0;34m(self, X, y, groups)\u001b[0m\n\u001b[1;32m    332\u001b[0m                 (\"Cannot have number of splits n_splits={0} greater\"\n\u001b[1;32m    333\u001b[0m                  \" than the number of samples: n_samples={1}.\")\n\u001b[0;32m--> 334\u001b[0;31m                 .format(self.n_splits, n_samples))\n\u001b[0m\u001b[1;32m    335\u001b[0m \u001b[0;34m\u001b[0m\u001b[0m\n\u001b[1;32m    336\u001b[0m         \u001b[0;32mfor\u001b[0m \u001b[0mtrain\u001b[0m\u001b[0;34m,\u001b[0m \u001b[0mtest\u001b[0m \u001b[0;32min\u001b[0m \u001b[0msuper\u001b[0m\u001b[0;34m(\u001b[0m\u001b[0;34m)\u001b[0m\u001b[0;34m.\u001b[0m\u001b[0msplit\u001b[0m\u001b[0;34m(\u001b[0m\u001b[0mX\u001b[0m\u001b[0;34m,\u001b[0m \u001b[0my\u001b[0m\u001b[0;34m,\u001b[0m \u001b[0mgroups\u001b[0m\u001b[0;34m)\u001b[0m\u001b[0;34m:\u001b[0m\u001b[0;34m\u001b[0m\u001b[0;34m\u001b[0m\u001b[0m\n",
      "\u001b[0;31mValueError\u001b[0m: Cannot have number of splits n_splits=5 greater than the number of samples: n_samples=4."
     ]
    }
   ],
   "source": [
    "history_sample_size = 50\n",
    "evaluation_policy_size = 100\n",
    "\n",
    "policy_type = 'TS'\n",
    "\n",
    "classes = [0, 1, 2]\n",
    "num_trials = 1000\n",
    "\n",
    "logit_model = LogisticRegression(random_state=0, C=0.1)\n",
    "\n",
    "method_list = [logit_model]\n",
    "\n",
    "true_list = []\n",
    "\n",
    "est_ipw_list = []\n",
    "est_dm_list = []\n",
    "est_aipw_list = []\n",
    "est_a2ipw_list = []\n",
    "est_est_ipw_list = []\n",
    "est_dr_list = []\n",
    "est_doubly_robust_list = []\n",
    "est_adr_list = []\n",
    "\n",
    "for tr in range(num_trials):\n",
    "    print(tr)\n",
    "    \n",
    "    X, Y_true, Y_true_matrix = data_generator(evaluation_policy_size + history_sample_size)\n",
    "    X_pre = X[:evaluation_policy_size]\n",
    "    Y_pre_true = Y_true[:evaluation_policy_size]\n",
    "    _ = Y_true_matrix[:evaluation_policy_size]\n",
    "\n",
    "    X_hist = X[evaluation_policy_size:]\n",
    "    _ = Y_true[evaluation_policy_size:]\n",
    "    Y_hist_true_matrix = Y_true_matrix[evaluation_policy_size:]\n",
    "\n",
    "    classifier = fit_logreg(X_pre, Y_pre_true)\n",
    "\n",
    "    pi_evaluation = create_policy(\n",
    "        X_hist, classes, classifier, alpha=0.9)\n",
    "    \n",
    "    pi_behavior, Y_hist, A_hist = create_bandit_policy(\n",
    "            X_hist, classes,  Y_hist_true_matrix, policy_type=policy_type, tau=0.7)\n",
    "    \n",
    "    true_val = true_value(Y_hist_true_matrix, pi_evaluation)\n",
    "    \n",
    "    OPE = OPEestimators( classes, pi_evaluation=pi_evaluation, pi_behavior=pi_behavior)\n",
    "    \n",
    "    true_list.append(true_val)\n",
    "    \n",
    "    est_ipw_list.append(OPE.fit(X_hist, A_hist, Y_hist, est_type='ipw') )\n",
    "    est_dm_list.append(OPE.fit(X_hist, A_hist, Y_hist, est_type='dm') )\n",
    "    est_aipw_list.append(OPE.fit(X_hist, A_hist, Y_hist, est_type='aipw') )\n",
    "    est_a2ipw_list.append(OPE.fit(X_hist, A_hist, Y_hist, est_type='a2ipw'))\n",
    "    \n",
    "    OPE = OPEestimators( classes, pi_evaluation=pi_evaluation, pi_behavior=None)\n",
    "    est_est_ipw_list.append(OPE.fit(X_hist, A_hist, Y_hist, est_type='ipw') )\n",
    "    est_dr_list.append(OPE.fit(X_hist, A_hist, Y_hist, est_type='dr') )\n",
    "    est_doubly_robust_list.append(OPE.fit(X_hist, A_hist, Y_hist, est_type='doublyrobust') )\n",
    "    est_adr_list.append(OPE.fit(X_hist, A_hist, Y_hist, est_type='adr'))"
   ]
  },
  {
   "cell_type": "code",
   "execution_count": 63,
   "metadata": {},
   "outputs": [
    {
     "data": {
      "text/plain": [
       "1000"
      ]
     },
     "execution_count": 63,
     "metadata": {},
     "output_type": "execute_result"
    }
   ],
   "source": [
    "num_trials"
   ]
  },
  {
   "cell_type": "code",
   "execution_count": 84,
   "metadata": {},
   "outputs": [],
   "source": [
    "true_list_array = np.array(true_list)\n",
    "\n",
    "est_ipw_list_array = np.array(est_ipw_list)\n",
    "est_dm_list_array = np.array(est_dm_list)\n",
    "est_aipw_list_array = np.array(est_aipw_list)\n",
    "est_a2ipw_list_array = np.array(est_a2ipw_list)\n",
    "est_dr_list_array = np.array(est_dr_list)\n",
    "est_adr_list_array = np.array(est_adr_list)\n",
    "est_doubly_robust_list_array = np.array(est_doubly_robust_list)"
   ]
  },
  {
   "cell_type": "code",
   "execution_count": 85,
   "metadata": {},
   "outputs": [
    {
     "ename": "ValueError",
     "evalue": "operands could not be broadcast together with shapes (4,) (5,) ",
     "output_type": "error",
     "traceback": [
      "\u001b[0;31m---------------------------------------------------------------------------\u001b[0m",
      "\u001b[0;31mValueError\u001b[0m                                Traceback (most recent call last)",
      "\u001b[0;32m<ipython-input-85-9d2ccf1ef96f>\u001b[0m in \u001b[0;36m<module>\u001b[0;34m\u001b[0m\n\u001b[1;32m      1\u001b[0m \u001b[0merror0\u001b[0m \u001b[0;34m=\u001b[0m \u001b[0mest_ipw_list_array\u001b[0m\u001b[0;34m[\u001b[0m\u001b[0;34m:\u001b[0m\u001b[0;34m,\u001b[0m \u001b[0;36m0\u001b[0m\u001b[0;34m]\u001b[0m \u001b[0;34m-\u001b[0m \u001b[0mtrue_list_array\u001b[0m\u001b[0;34m\u001b[0m\u001b[0;34m\u001b[0m\u001b[0m\n\u001b[1;32m      2\u001b[0m \u001b[0merror1\u001b[0m \u001b[0;34m=\u001b[0m \u001b[0mest_dm_list_array\u001b[0m\u001b[0;34m[\u001b[0m\u001b[0;34m:\u001b[0m\u001b[0;34m,\u001b[0m \u001b[0;36m0\u001b[0m\u001b[0;34m]\u001b[0m \u001b[0;34m-\u001b[0m \u001b[0mtrue_list_array\u001b[0m\u001b[0;34m\u001b[0m\u001b[0;34m\u001b[0m\u001b[0m\n\u001b[0;32m----> 3\u001b[0;31m \u001b[0merror2\u001b[0m \u001b[0;34m=\u001b[0m \u001b[0mest_aipw_list_array\u001b[0m\u001b[0;34m[\u001b[0m\u001b[0;34m:\u001b[0m\u001b[0;34m,\u001b[0m \u001b[0;36m0\u001b[0m\u001b[0;34m]\u001b[0m \u001b[0;34m-\u001b[0m \u001b[0mtrue_list_array\u001b[0m\u001b[0;34m\u001b[0m\u001b[0;34m\u001b[0m\u001b[0m\n\u001b[0m\u001b[1;32m      4\u001b[0m \u001b[0merror3\u001b[0m \u001b[0;34m=\u001b[0m \u001b[0mest_a2ipw_list_array\u001b[0m\u001b[0;34m[\u001b[0m\u001b[0;34m:\u001b[0m\u001b[0;34m,\u001b[0m \u001b[0;36m0\u001b[0m\u001b[0;34m]\u001b[0m\u001b[0;34m-\u001b[0m \u001b[0mtrue_list_array\u001b[0m\u001b[0;34m\u001b[0m\u001b[0;34m\u001b[0m\u001b[0m\n\u001b[1;32m      5\u001b[0m \u001b[0merror4\u001b[0m \u001b[0;34m=\u001b[0m \u001b[0mest_dr_list_array\u001b[0m\u001b[0;34m[\u001b[0m\u001b[0;34m:\u001b[0m\u001b[0;34m,\u001b[0m \u001b[0;36m0\u001b[0m\u001b[0;34m]\u001b[0m \u001b[0;34m-\u001b[0m \u001b[0mtrue_list_array\u001b[0m\u001b[0;34m\u001b[0m\u001b[0;34m\u001b[0m\u001b[0m\n",
      "\u001b[0;31mValueError\u001b[0m: operands could not be broadcast together with shapes (4,) (5,) "
     ]
    }
   ],
   "source": [
    "error0 = est_ipw_list_array[:, 0] - true_list_array\n",
    "error1 = est_dm_list_array[:, 0] - true_list_array\n",
    "error2 = est_aipw_list_array[:, 0] - true_list_array\n",
    "error3 = est_a2ipw_list_array[:, 0]- true_list_array\n",
    "error4 = est_dr_list_array[:, 0] - true_list_array\n",
    "error5 = est_adr_list_array[:, 0] - true_list_array\n",
    "error6 = est_doubly_robust_list_array[:, 0] - true_list_array"
   ]
  },
  {
   "cell_type": "code",
   "execution_count": 86,
   "metadata": {},
   "outputs": [],
   "source": [
    "error0 = est_ipw_list_array[:, 0] - true_list_array\n",
    "error1 = est_dm_list_array[:, 0] - true_list_array\n",
    "error2 = est_aipw_list_array[:, 0] - true_list_array[:-1]\n",
    "error3 = est_a2ipw_list_array[:, 0]- true_list_array[:-1]\n",
    "error4 = est_dr_list_array[:, 0] - true_list_array[:-1]\n",
    "error5 = est_adr_list_array[:, 0] - true_list_array[:-1]\n",
    "error6 = est_doubly_robust_list_array[:, 0] - true_list_array[:-1]"
   ]
  },
  {
   "cell_type": "code",
   "execution_count": 87,
   "metadata": {},
   "outputs": [
    {
     "data": {
      "text/plain": [
       "<matplotlib.legend.Legend at 0x7fa096c991d0>"
      ]
     },
     "execution_count": 87,
     "metadata": {},
     "output_type": "execute_result"
    },
    {
     "data": {
      "image/png": "[encoded data removed]",
      "text/plain": [
       "<Figure size 720x432 with 1 Axes>"
      ]
     },
     "metadata": {
      "needs_background": "light"
     },
     "output_type": "display_data"
    }
   ],
   "source": [
    "import numpy as np\n",
    "from scipy.stats import gaussian_kde\n",
    "import matplotlib.pyplot as plt\n",
    "\n",
    "plt.figure(figsize=(10, 6))\n",
    "\n",
    "limmin = -0.5\n",
    "limmax = 0.5\n",
    "ls = np.linspace(limmin, limmax, 1000)\n",
    "\n",
    "kde = gaussian_kde(error0)\n",
    "plt.plot(ls, kde(ls), label='ipw')\n",
    "\n",
    "kde = gaussian_kde(error1)\n",
    "plt.plot(ls, kde(ls), label='dm')\n",
    "\n",
    "kde = gaussian_kde(error2)\n",
    "plt.plot(ls, kde(ls), label='aipw')\n",
    "\n",
    "kde = gaussian_kde(error3)\n",
    "plt.plot(ls, kde(ls), label='a2ipw')\n",
    "\n",
    "kde = gaussian_kde(error4)\n",
    "plt.plot(ls, kde(ls), label='dr')\n",
    "\n",
    "kde = gaussian_kde(error5)\n",
    "plt.plot(ls, kde(ls), label='adr')\n",
    "\n",
    "p = plt.vlines([0], 0, 8, \"black\", linestyles='dashed') \n",
    "plt.xlabel('Errors', fontsize=30)\n",
    "plt.yticks(fontsize=30)\n",
    "plt.xticks([-0.5, -0.25, 0, 0.25, 0.5])\n",
    "plt.xticks(fontsize=30)\n",
    "plt.legend(fontsize=30)"
   ]
  },
  {
   "cell_type": "code",
   "execution_count": 89,
   "metadata": {},
   "outputs": [
    {
     "data": {
      "text/plain": [
       "<matplotlib.legend.Legend at 0x7fa0963d2b50>"
      ]
     },
     "execution_count": 89,
     "metadata": {},
     "output_type": "execute_result"
    },
    {
     "data": {
      "image/png": "[encoded data removed]",
      "text/plain": [
       "<Figure size 720x432 with 1 Axes>"
      ]
     },
     "metadata": {
      "needs_background": "light"
     },
     "output_type": "display_data"
    }
   ],
   "source": [
    "import numpy as np\n",
    "from scipy.stats import gaussian_kde\n",
    "import matplotlib.pyplot as plt\n",
    "\n",
    "plt.figure(figsize=(10, 6))\n",
    "\n",
    "limmin = -0.5\n",
    "limmax = 0.5\n",
    "ls = np.linspace(limmin, limmax, 1000)\n",
    "\n",
    "kde = gaussian_kde(error1)\n",
    "plt.plot(ls, kde(ls), label='all')\n",
    "\n",
    "kde = gaussian_kde(error2[:20])\n",
    "plt.plot(ls, kde(ls), label='early')\n",
    "\n",
    "kde = gaussian_kde(error3[:30])\n",
    "plt.plot(ls, kde(ls), label='last')\n",
    "\n",
    "kde = gaussian_kde(error4[:40])\n",
    "plt.plot(ls, kde(ls), label='a2ipw')\n",
    "\n",
    "kde = gaussian_kde(error5[:50])\n",
    "plt.plot(ls, kde(ls), label='dr')\n",
    "\n",
    "kde = gaussian_kde(error6[:])\n",
    "plt.plot(ls, kde(ls), label='adr')\n",
    "\n",
    "p = plt.vlines([0], 0, 8, \"black\", linestyles='dashed') \n",
    "plt.xlabel('Errors', fontsize=30)\n",
    "plt.yticks(fontsize=30)\n",
    "plt.xticks([-0.3, -0.25, 0, 0.25, 0.3])\n",
    "plt.xticks(fontsize=30)\n",
    "plt.legend(fontsize=30)"
   ]
  },
  {
   "cell_type": "code",
   "execution_count": 78,
   "metadata": {},
   "outputs": [
    {
     "data": {
      "text/plain": [
       "array([ 0.102264  , -0.19287588, -0.27243625, -0.24511647])"
      ]
     },
     "execution_count": 78,
     "metadata": {},
     "output_type": "execute_result"
    }
   ],
   "source": [
    "error2"
   ]
  },
  {
   "cell_type": "code",
   "execution_count": 38,
   "metadata": {},
   "outputs": [
    {
     "data": {
      "text/plain": [
       "0.006998333969704001"
      ]
     },
     "execution_count": 38,
     "metadata": {},
     "output_type": "execute_result"
    }
   ],
   "source": [
    "np.mean(error0)"
   ]
  },
  {
   "cell_type": "code",
   "execution_count": 42,
   "metadata": {},
   "outputs": [
    {
     "data": {
      "text/plain": [
       "0.10371661874682434"
      ]
     },
     "execution_count": 42,
     "metadata": {},
     "output_type": "execute_result"
    }
   ],
   "source": [
    "np.mean(error0**2)"
   ]
  },
  {
   "cell_type": "code",
   "execution_count": 49,
   "metadata": {},
   "outputs": [
    {
     "data": {
      "text/plain": [
       "0.0028896052753332496"
      ]
     },
     "execution_count": 49,
     "metadata": {},
     "output_type": "execute_result"
    }
   ],
   "source": [
    "np.mean(error2)"
   ]
  },
  {
   "cell_type": "code",
   "execution_count": 41,
   "metadata": {},
   "outputs": [
    {
     "data": {
      "text/plain": [
       "0.006845897893574099"
      ]
     },
     "execution_count": 41,
     "metadata": {},
     "output_type": "execute_result"
    }
   ],
   "source": [
    "np.mean(error3)"
   ]
  },
  {
   "cell_type": "code",
   "execution_count": 43,
   "metadata": {},
   "outputs": [
    {
     "data": {
      "text/plain": [
       "0.06289666220489809"
      ]
     },
     "execution_count": 43,
     "metadata": {},
     "output_type": "execute_result"
    }
   ],
   "source": [
    "np.mean(error3**2)"
   ]
  },
  {
   "cell_type": "code",
   "execution_count": 44,
   "metadata": {},
   "outputs": [
    {
     "data": {
      "text/plain": [
       "0.002918562158550399"
      ]
     },
     "execution_count": 44,
     "metadata": {},
     "output_type": "execute_result"
    }
   ],
   "source": [
    "np.mean(error4)"
   ]
  },
  {
   "cell_type": "code",
   "execution_count": 46,
   "metadata": {},
   "outputs": [
    {
     "data": {
      "text/plain": [
       "0.007615721788877985"
      ]
     },
     "execution_count": 46,
     "metadata": {},
     "output_type": "execute_result"
    }
   ],
   "source": [
    "np.mean(error4**2)"
   ]
  },
  {
   "cell_type": "code",
   "execution_count": 45,
   "metadata": {},
   "outputs": [
    {
     "data": {
      "text/plain": [
       "-0.054894342029557924"
      ]
     },
     "execution_count": 45,
     "metadata": {},
     "output_type": "execute_result"
    }
   ],
   "source": [
    "np.mean(error5)"
   ]
  },
  {
   "cell_type": "code",
   "execution_count": 47,
   "metadata": {},
   "outputs": [
    {
     "data": {
      "text/plain": [
       "0.00824473728298613"
      ]
     },
     "execution_count": 47,
     "metadata": {},
     "output_type": "execute_result"
    }
   ],
   "source": [
    "np.mean(error5**2)"
   ]
  },
  {
   "cell_type": "code",
   "execution_count": 48,
   "metadata": {},
   "outputs": [
    {
     "data": {
      "text/plain": [
       "0.009675056580888975"
      ]
     },
     "execution_count": 48,
     "metadata": {},
     "output_type": "execute_result"
    }
   ],
   "source": [
    "np.mean(error1**2)"
   ]
  },
  {
   "cell_type": "code",
   "execution_count": 31,
   "metadata": {},
   "outputs": [
    {
     "data": {
      "text/plain": [
       "(0.9772805571556091, 0.08144091814756393)"
      ]
     },
     "execution_count": 31,
     "metadata": {},
     "output_type": "execute_result"
    }
   ],
   "source": [
    "from scipy import stats\n",
    "np.random.seed(12345678)\n",
    "x = stats.norm.rvs(loc=5, scale=3, size=100)\n",
    "stats.shapiro(x)"
   ]
  },
  {
   "cell_type": "code",
   "execution_count": null,
   "metadata": {},
   "outputs": [],
   "source": []
  }
 ],
 "metadata": {
  "kernelspec": {
   "display_name": "Python 3",
   "language": "python",
   "name": "python3"
  },
  "language_info": {
   "codemirror_mode": {
    "name": "ipython",
    "version": 3
   },
   "file_extension": ".py",
   "mimetype": "text/x-python",
   "name": "python",
   "nbconvert_exporter": "python",
   "pygments_lexer": "ipython3",
   "version": "3.7.5"
  }
 },
 "nbformat": 4,
 "nbformat_minor": 2
}
