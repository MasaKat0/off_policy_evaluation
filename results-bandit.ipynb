{
 "cells": [
  {
   "cell_type": "code",
   "execution_count": 1,
   "metadata": {},
   "outputs": [],
   "source": [
    "%matplotlib inline"
   ]
  },
  {
   "cell_type": "code",
   "execution_count": 2,
   "metadata": {},
   "outputs": [],
   "source": [
    "import numpy as np\n",
    "import pandas as pd"
   ]
  },
  {
   "cell_type": "code",
   "execution_count": 5,
   "metadata": {},
   "outputs": [],
   "source": [
    "pol = 'TS'\n",
    "sample_size = 800\n",
    "\n",
    "dataname = ['satimage', 'mnist', 'Sensorless', 'connect-4']\n",
    "\n",
    "for d in dataname:\n",
    "\n",
    "    true_list_array = pd.read_csv('exp_results/true_data_%s_samplesize_%d_pol_type_%s.csv'%(d, sample_size, pol), header=None).values .T[0]\n",
    "\n",
    "    est_ipw_list_array = pd.read_csv('exp_results/res_ipw_data_%s_samplesize_%d_pol_type_%s.csv'%(d, sample_size, pol), header=None).values \n",
    "    est_dm_list_array = pd.read_csv('exp_results/res_dm_sn_data_%s_samplesize_%d_pol_type_%s.csv'%(d, sample_size, pol), header=None).values \n",
    "    est_aipw_list_array = pd.read_csv('exp_results/res_aipw_data_%s_samplesize_%d_pol_type_%s.csv'%(d, sample_size, pol), header=None).values \n",
    "    est_aipw_ddm_list_array = pd.read_csv('exp_results/res_aipw_ddm_data_%s_samplesize_%d_pol_type_%s.csv'%(d, sample_size, pol), header=None).values \n",
    "    est_a2ipw_list_array = pd.read_csv('exp_results/res_a2ipw_data_%s_samplesize_%d_pol_type_%s.csv'%(d, sample_size, pol), header=None).values \n",
    "    est_est_ipw_list_array = pd.read_csv('exp_results/res_est_ipw_data_%s_samplesize_%d_pol_type_%s.csv'%(d, sample_size, pol), header=None).values \n",
    "    est_dr_list_array = pd.read_csv('exp_results/res_dr_data_%s_samplesize_%d_pol_type_%s.csv'%(d, sample_size, pol), header=None).values \n",
    "    est_dr_ddm_list_array = pd.read_csv('exp_results/res_dr_ddm_data_%s_samplesize_%d_pol_type_%s.csv'%(d, sample_size, pol), header=None).values \n",
    "    est_adr_list_array = pd.read_csv('exp_results/res_adr_data_%s_samplesize_%d_pol_type_%s.csv'%(d, sample_size, pol), header=None).values "
   ]
  },
  {
   "cell_type": "code",
   "execution_count": 48,
   "metadata": {},
   "outputs": [],
   "source": [
    "pol = 'TS'\n",
    "sample_size = 800\n",
    "\n",
    "d = 'connect-4'\n",
    "\n",
    "true_list_array = pd.read_csv('exp_results/true_data_%s_samplesize_%d_pol_type_%s.csv'%(d, sample_size, pol), header=None).values \n",
    "\n",
    "est_ipw_list_array = pd.read_csv('exp_results/res_ipw_data_%s_samplesize_%d_pol_type_%s.csv'%(d, sample_size, pol), header=None).values \n",
    "est_dm_list_array = pd.read_csv('exp_results/res_dm_sn_data_%s_samplesize_%d_pol_type_%s.csv'%(d, sample_size, pol), header=None).values \n",
    "est_aipw_list_array = pd.read_csv('exp_results/res_aipw_data_%s_samplesize_%d_pol_type_%s.csv'%(d, sample_size, pol), header=None).values \n",
    "est_aipw_ddm_list_array = pd.read_csv('exp_results/res_aipw_ddm_data_%s_samplesize_%d_pol_type_%s.csv'%(d, sample_size, pol), header=None).values \n",
    "est_a2ipw_list_array = pd.read_csv('exp_results/res_a2ipw_data_%s_samplesize_%d_pol_type_%s.csv'%(d, sample_size, pol), header=None).values \n",
    "est_est_ipw_list_array = pd.read_csv('exp_results/res_est_ipw_data_%s_samplesize_%d_pol_type_%s.csv'%(d, sample_size, pol), header=None).values \n",
    "est_dr_list_array = pd.read_csv('exp_results/res_dr_data_%s_samplesize_%d_pol_type_%s.csv'%(d, sample_size, pol), header=None).values \n",
    "est_dr_ddm_list_array = pd.read_csv('exp_results/res_dr_ddm_data_%s_samplesize_%d_pol_type_%s.csv'%(d, sample_size, pol), header=None).values \n",
    "est_adr_list_array = pd.read_csv('exp_results/res_adr_data_%s_samplesize_%d_pol_type_%s.csv'%(d, sample_size, pol), header=None).values "
   ]
  },
  {
   "cell_type": "code",
   "execution_count": 49,
   "metadata": {},
   "outputs": [],
   "source": [
    "error0 = est_ipw_list_array - true_list_array\n",
    "error1 = est_dm_list_array - true_list_array\n",
    "error2 = est_aipw_list_array - true_list_array\n",
    "error3 = est_aipw_ddm_list_array - true_list_array\n",
    "error4 = est_a2ipw_list_array - true_list_array\n",
    "error5 = est_est_ipw_list_array - true_list_array\n",
    "error6 = est_dr_list_array - true_list_array\n",
    "error7 = est_dr_ddm_list_array - true_list_array\n",
    "error8 = est_adr_list_array - true_list_array"
   ]
  },
  {
   "cell_type": "code",
   "execution_count": 50,
   "metadata": {},
   "outputs": [],
   "source": [
    "df = [np.sqrt(np.mean(error0**2, axis=0)), np.std(error0**2, axis=0), \n",
    "      np.sqrt(np.mean(error1**2, axis=0)), np.std(error1**2, axis=0), \n",
    "      np.sqrt(np.mean(error2**2, axis=0)), np.std(error2**2, axis=0), \n",
    "      np.sqrt(np.mean(error3**2, axis=0)), np.std(error3**2, axis=0), \n",
    "      np.sqrt(np.mean(error4**2, axis=0)), np.std(error4**2, axis=0), \n",
    "      np.sqrt(np.mean(error5**2, axis=0)), np.std(error5**2, axis=0), \n",
    "      np.sqrt(np.mean(error6**2, axis=0)), np.std(error6**2, axis=0), \n",
    "      np.sqrt(np.mean(error7**2, axis=0)), np.std(error7**2, axis=0), \n",
    "      np.sqrt(np.mean(error8**2, axis=0)), np.std(error8**2, axis=0)] \n",
    "df = pd.DataFrame(df)\n",
    "\n"
   ]
  },
  {
   "cell_type": "code",
   "execution_count": 51,
   "metadata": {},
   "outputs": [
    {
     "name": "stdout",
     "output_type": "stream",
     "text": [
      "\\begin{tabular}{lrrrrrrrrrrrrrrrrrr}\n",
      "\\toprule\n",
      "{} &      0 &      1 &      2 &      3 &      4 &      5 &      6 &      7 &      8 &      9 &     10 &     11 &     12 &     13 &     14 &     15 &     16 &     17 \\\\\n",
      "\\midrule\n",
      "0 &  0.084 &  0.015 &  0.056 &  0.004 &  0.046 &  0.004 &  0.050 &  0.006 &  0.058 &  0.006 &  0.048 &  0.003 &  0.033 &  0.001 &  0.024 &  0.001 &  0.023 &  0.001 \\\\\n",
      "1 &  0.048 &  0.003 &  0.046 &  0.001 &  0.027 &  0.001 &  0.034 &  0.001 &  0.038 &  0.001 &  0.034 &  0.001 &  0.022 &  0.001 &  0.020 &  0.000 &  0.021 &  0.000 \\\\\n",
      "2 &  0.064 &  0.008 &  0.050 &  0.002 &  0.031 &  0.001 &  0.033 &  0.001 &  0.028 &  0.001 &  0.023 &  0.001 &  0.028 &  0.001 &  0.022 &  0.001 &  0.023 &  0.001 \\\\\n",
      "\\bottomrule\n",
      "\\end{tabular}\n",
      "\n"
     ]
    }
   ],
   "source": [
    "print(np.round(df.T, 3).to_latex())"
   ]
  },
  {
   "cell_type": "code",
   "execution_count": 185,
   "metadata": {},
   "outputs": [
    {
     "data": {
      "text/plain": [
       "array([[0.43275428, 0.52819473, 0.37382412],\n",
       "       [0.47972923, 0.46830432, 0.51803715],\n",
       "       [0.44195005, 0.52564519, 0.52065304],\n",
       "       [0.47572248, 0.54886558, 0.50768673],\n",
       "       [0.477496  , 0.52065971, 0.45100502],\n",
       "       [0.54364855, 0.47272088, 0.46190707],\n",
       "       [0.50302069, 0.45901567, 0.617258  ],\n",
       "       [0.45796247, 0.52048099, 0.40408783],\n",
       "       [0.40922256, 0.44437803, 0.42041218],\n",
       "       [0.48540013, 0.47479217, 0.3915042 ]])"
      ]
     },
     "execution_count": 185,
     "metadata": {},
     "output_type": "execute_result"
    }
   ],
   "source": [
    "est_adr_list_array"
   ]
  },
  {
   "cell_type": "code",
   "execution_count": 186,
   "metadata": {},
   "outputs": [
    {
     "ename": "LinAlgError",
     "evalue": "singular matrix",
     "output_type": "error",
     "traceback": [
      "\u001b[0;31m---------------------------------------------------------------------------\u001b[0m",
      "\u001b[0;31mLinAlgError\u001b[0m                               Traceback (most recent call last)",
      "\u001b[0;32m<ipython-input-186-0218e10d21c4>\u001b[0m in \u001b[0;36m<module>\u001b[0;34m\u001b[0m\n\u001b[1;32m      9\u001b[0m \u001b[0mls\u001b[0m \u001b[0;34m=\u001b[0m \u001b[0mnp\u001b[0m\u001b[0;34m.\u001b[0m\u001b[0mlinspace\u001b[0m\u001b[0;34m(\u001b[0m\u001b[0mlimmin\u001b[0m\u001b[0;34m,\u001b[0m \u001b[0mlimmax\u001b[0m\u001b[0;34m,\u001b[0m \u001b[0;36m1000\u001b[0m\u001b[0;34m)\u001b[0m\u001b[0;34m\u001b[0m\u001b[0;34m\u001b[0m\u001b[0m\n\u001b[1;32m     10\u001b[0m \u001b[0;34m\u001b[0m\u001b[0m\n\u001b[0;32m---> 11\u001b[0;31m \u001b[0mkde\u001b[0m \u001b[0;34m=\u001b[0m \u001b[0mgaussian_kde\u001b[0m\u001b[0;34m(\u001b[0m\u001b[0merror0\u001b[0m\u001b[0;34m)\u001b[0m\u001b[0;34m\u001b[0m\u001b[0;34m\u001b[0m\u001b[0m\n\u001b[0m\u001b[1;32m     12\u001b[0m \u001b[0mplt\u001b[0m\u001b[0;34m.\u001b[0m\u001b[0mplot\u001b[0m\u001b[0;34m(\u001b[0m\u001b[0mls\u001b[0m\u001b[0;34m,\u001b[0m \u001b[0mkde\u001b[0m\u001b[0;34m(\u001b[0m\u001b[0mls\u001b[0m\u001b[0;34m)\u001b[0m\u001b[0;34m,\u001b[0m \u001b[0mlabel\u001b[0m\u001b[0;34m=\u001b[0m\u001b[0;34m'IPW'\u001b[0m\u001b[0;34m,\u001b[0m \u001b[0mlinewidth\u001b[0m \u001b[0;34m=\u001b[0m \u001b[0;36m3.0\u001b[0m\u001b[0;34m,\u001b[0m  \u001b[0mlinestyle\u001b[0m\u001b[0;34m=\u001b[0m\u001b[0;34m'-'\u001b[0m\u001b[0;34m)\u001b[0m\u001b[0;34m\u001b[0m\u001b[0;34m\u001b[0m\u001b[0m\n\u001b[1;32m     13\u001b[0m \u001b[0;34m\u001b[0m\u001b[0m\n",
      "\u001b[0;32m~/opt/anaconda3/lib/python3.7/site-packages/scipy/stats/kde.py\u001b[0m in \u001b[0;36m__init__\u001b[0;34m(self, dataset, bw_method, weights)\u001b[0m\n\u001b[1;32m    207\u001b[0m             \u001b[0mself\u001b[0m\u001b[0;34m.\u001b[0m\u001b[0m_neff\u001b[0m \u001b[0;34m=\u001b[0m \u001b[0;36m1\u001b[0m\u001b[0;34m/\u001b[0m\u001b[0msum\u001b[0m\u001b[0;34m(\u001b[0m\u001b[0mself\u001b[0m\u001b[0;34m.\u001b[0m\u001b[0m_weights\u001b[0m\u001b[0;34m**\u001b[0m\u001b[0;36m2\u001b[0m\u001b[0;34m)\u001b[0m\u001b[0;34m\u001b[0m\u001b[0;34m\u001b[0m\u001b[0m\n\u001b[1;32m    208\u001b[0m \u001b[0;34m\u001b[0m\u001b[0m\n\u001b[0;32m--> 209\u001b[0;31m         \u001b[0mself\u001b[0m\u001b[0;34m.\u001b[0m\u001b[0mset_bandwidth\u001b[0m\u001b[0;34m(\u001b[0m\u001b[0mbw_method\u001b[0m\u001b[0;34m=\u001b[0m\u001b[0mbw_method\u001b[0m\u001b[0;34m)\u001b[0m\u001b[0;34m\u001b[0m\u001b[0;34m\u001b[0m\u001b[0m\n\u001b[0m\u001b[1;32m    210\u001b[0m \u001b[0;34m\u001b[0m\u001b[0m\n\u001b[1;32m    211\u001b[0m     \u001b[0;32mdef\u001b[0m \u001b[0mevaluate\u001b[0m\u001b[0;34m(\u001b[0m\u001b[0mself\u001b[0m\u001b[0;34m,\u001b[0m \u001b[0mpoints\u001b[0m\u001b[0;34m)\u001b[0m\u001b[0;34m:\u001b[0m\u001b[0;34m\u001b[0m\u001b[0;34m\u001b[0m\u001b[0m\n",
      "\u001b[0;32m~/opt/anaconda3/lib/python3.7/site-packages/scipy/stats/kde.py\u001b[0m in \u001b[0;36mset_bandwidth\u001b[0;34m(self, bw_method)\u001b[0m\n\u001b[1;32m    563\u001b[0m             \u001b[0;32mraise\u001b[0m \u001b[0mValueError\u001b[0m\u001b[0;34m(\u001b[0m\u001b[0mmsg\u001b[0m\u001b[0;34m)\u001b[0m\u001b[0;34m\u001b[0m\u001b[0;34m\u001b[0m\u001b[0m\n\u001b[1;32m    564\u001b[0m \u001b[0;34m\u001b[0m\u001b[0m\n\u001b[0;32m--> 565\u001b[0;31m         \u001b[0mself\u001b[0m\u001b[0;34m.\u001b[0m\u001b[0m_compute_covariance\u001b[0m\u001b[0;34m(\u001b[0m\u001b[0;34m)\u001b[0m\u001b[0;34m\u001b[0m\u001b[0;34m\u001b[0m\u001b[0m\n\u001b[0m\u001b[1;32m    566\u001b[0m \u001b[0;34m\u001b[0m\u001b[0m\n\u001b[1;32m    567\u001b[0m     \u001b[0;32mdef\u001b[0m \u001b[0m_compute_covariance\u001b[0m\u001b[0;34m(\u001b[0m\u001b[0mself\u001b[0m\u001b[0;34m)\u001b[0m\u001b[0;34m:\u001b[0m\u001b[0;34m\u001b[0m\u001b[0;34m\u001b[0m\u001b[0m\n",
      "\u001b[0;32m~/opt/anaconda3/lib/python3.7/site-packages/scipy/stats/kde.py\u001b[0m in \u001b[0;36m_compute_covariance\u001b[0;34m(self)\u001b[0m\n\u001b[1;32m    575\u001b[0m                                                \u001b[0mbias\u001b[0m\u001b[0;34m=\u001b[0m\u001b[0;32mFalse\u001b[0m\u001b[0;34m,\u001b[0m\u001b[0;34m\u001b[0m\u001b[0;34m\u001b[0m\u001b[0m\n\u001b[1;32m    576\u001b[0m                                                aweights=self.weights))\n\u001b[0;32m--> 577\u001b[0;31m             \u001b[0mself\u001b[0m\u001b[0;34m.\u001b[0m\u001b[0m_data_inv_cov\u001b[0m \u001b[0;34m=\u001b[0m \u001b[0mlinalg\u001b[0m\u001b[0;34m.\u001b[0m\u001b[0minv\u001b[0m\u001b[0;34m(\u001b[0m\u001b[0mself\u001b[0m\u001b[0;34m.\u001b[0m\u001b[0m_data_covariance\u001b[0m\u001b[0;34m)\u001b[0m\u001b[0;34m\u001b[0m\u001b[0;34m\u001b[0m\u001b[0m\n\u001b[0m\u001b[1;32m    578\u001b[0m \u001b[0;34m\u001b[0m\u001b[0m\n\u001b[1;32m    579\u001b[0m         \u001b[0mself\u001b[0m\u001b[0;34m.\u001b[0m\u001b[0mcovariance\u001b[0m \u001b[0;34m=\u001b[0m \u001b[0mself\u001b[0m\u001b[0;34m.\u001b[0m\u001b[0m_data_covariance\u001b[0m \u001b[0;34m*\u001b[0m \u001b[0mself\u001b[0m\u001b[0;34m.\u001b[0m\u001b[0mfactor\u001b[0m\u001b[0;34m**\u001b[0m\u001b[0;36m2\u001b[0m\u001b[0;34m\u001b[0m\u001b[0;34m\u001b[0m\u001b[0m\n",
      "\u001b[0;32m~/opt/anaconda3/lib/python3.7/site-packages/scipy/linalg/basic.py\u001b[0m in \u001b[0;36minv\u001b[0;34m(a, overwrite_a, check_finite)\u001b[0m\n\u001b[1;32m    977\u001b[0m         \u001b[0minv_a\u001b[0m\u001b[0;34m,\u001b[0m \u001b[0minfo\u001b[0m \u001b[0;34m=\u001b[0m \u001b[0mgetri\u001b[0m\u001b[0;34m(\u001b[0m\u001b[0mlu\u001b[0m\u001b[0;34m,\u001b[0m \u001b[0mpiv\u001b[0m\u001b[0;34m,\u001b[0m \u001b[0mlwork\u001b[0m\u001b[0;34m=\u001b[0m\u001b[0mlwork\u001b[0m\u001b[0;34m,\u001b[0m \u001b[0moverwrite_lu\u001b[0m\u001b[0;34m=\u001b[0m\u001b[0;36m1\u001b[0m\u001b[0;34m)\u001b[0m\u001b[0;34m\u001b[0m\u001b[0;34m\u001b[0m\u001b[0m\n\u001b[1;32m    978\u001b[0m     \u001b[0;32mif\u001b[0m \u001b[0minfo\u001b[0m \u001b[0;34m>\u001b[0m \u001b[0;36m0\u001b[0m\u001b[0;34m:\u001b[0m\u001b[0;34m\u001b[0m\u001b[0;34m\u001b[0m\u001b[0m\n\u001b[0;32m--> 979\u001b[0;31m         \u001b[0;32mraise\u001b[0m \u001b[0mLinAlgError\u001b[0m\u001b[0;34m(\u001b[0m\u001b[0;34m\"singular matrix\"\u001b[0m\u001b[0;34m)\u001b[0m\u001b[0;34m\u001b[0m\u001b[0;34m\u001b[0m\u001b[0m\n\u001b[0m\u001b[1;32m    980\u001b[0m     \u001b[0;32mif\u001b[0m \u001b[0minfo\u001b[0m \u001b[0;34m<\u001b[0m \u001b[0;36m0\u001b[0m\u001b[0;34m:\u001b[0m\u001b[0;34m\u001b[0m\u001b[0;34m\u001b[0m\u001b[0m\n\u001b[1;32m    981\u001b[0m         raise ValueError('illegal value in %d-th argument of internal '\n",
      "\u001b[0;31mLinAlgError\u001b[0m: singular matrix"
     ]
    },
    {
     "data": {
      "text/plain": [
       "<Figure size 720x432 with 0 Axes>"
      ]
     },
     "metadata": {},
     "output_type": "display_data"
    }
   ],
   "source": [
    "import numpy as np\n",
    "from scipy.stats import gaussian_kde\n",
    "import matplotlib.pyplot as plt\n",
    "\n",
    "plt.figure(figsize=(10, 6))\n",
    "\n",
    "limmin = -0.25\n",
    "limmax = 0.25\n",
    "ls = np.linspace(limmin, limmax, 1000)\n",
    "\n",
    "kde = gaussian_kde(error0)\n",
    "plt.plot(ls, kde(ls), label='IPW', linewidth = 3.0,  linestyle='-')\n",
    "\n",
    "kde = gaussian_kde(error1)\n",
    "plt.plot(ls, kde(ls), label='DM', linewidth = 3.0,  linestyle='--')\n",
    "\n",
    "kde = gaussian_kde(error2)\n",
    "plt.plot(ls, kde(ls), label='AIPW', linewidth = 3.0,  linestyle=':')\n",
    "\n",
    "kde = gaussian_kde(error3)\n",
    "plt.plot(ls, kde(ls), label='AIPWCF', linewidth = 3.0,  linestyle='-.')\n",
    "\n",
    "kde = gaussian_kde(error4)\n",
    "plt.plot(ls, kde(ls), label='A2IPW', linewidth = 3.0,  linestyle='-')\n",
    "\n",
    "kde = gaussian_kde(error5)\n",
    "plt.plot(ls, kde(ls), label='EIPW', linewidth = 3.0,  linestyle='--')\n",
    "\n",
    "kde = gaussian_kde(error6)\n",
    "plt.plot(ls, kde(ls), label='DR', linewidth = 3.0,  linestyle=':')\n",
    "\n",
    "kde = gaussian_kde(error7)\n",
    "plt.plot(ls, kde(ls), label='DRCF', linewidth = 3.0,  linestyle='-.')\n",
    "\n",
    "kde = gaussian_kde(error8)\n",
    "plt.plot(ls, kde(ls), label='ADR', linewidth =3.0,  linestyle='-')\n",
    "\n",
    "p = plt.vlines([0], 0, 8.5, \"black\", linestyles='dashed') \n",
    "plt.xlabel('Errors', fontsize=30)\n",
    "plt.yticks([])\n",
    "plt.yticks(fontsize=30)\n",
    "plt.xticks([-0.25, -0.1, 0, 0.1, 0.25])\n",
    "plt.xticks(fontsize=30)\n",
    "plt.ylim(0,10)\n",
    "plt.legend(fontsize=17)"
   ]
  },
  {
   "cell_type": "code",
   "execution_count": 187,
   "metadata": {},
   "outputs": [
    {
     "data": {
      "text/plain": [
       "0.004613659614324929"
      ]
     },
     "execution_count": 187,
     "metadata": {},
     "output_type": "execute_result"
    }
   ],
   "source": [
    "np.mean(error8**2)"
   ]
  },
  {
   "cell_type": "code",
   "execution_count": 72,
   "metadata": {},
   "outputs": [
    {
     "data": {
      "text/plain": [
       "0.0019135989067154355"
      ]
     },
     "execution_count": 72,
     "metadata": {},
     "output_type": "execute_result"
    }
   ],
   "source": [
    "np.mean(error7**2)"
   ]
  },
  {
   "cell_type": "code",
   "execution_count": 73,
   "metadata": {},
   "outputs": [
    {
     "data": {
      "text/plain": [
       "0.001816255753088232"
      ]
     },
     "execution_count": 73,
     "metadata": {},
     "output_type": "execute_result"
    }
   ],
   "source": [
    "np.mean(error6**2)"
   ]
  },
  {
   "cell_type": "code",
   "execution_count": 74,
   "metadata": {},
   "outputs": [
    {
     "data": {
      "text/plain": [
       "0.005258183163579136"
      ]
     },
     "execution_count": 74,
     "metadata": {},
     "output_type": "execute_result"
    }
   ],
   "source": [
    "np.mean(error4**2)"
   ]
  },
  {
   "cell_type": "code",
   "execution_count": 60,
   "metadata": {},
   "outputs": [
    {
     "data": {
      "text/plain": [
       "0.008604240387621061"
      ]
     },
     "execution_count": 60,
     "metadata": {},
     "output_type": "execute_result"
    }
   ],
   "source": [
    "np.mean(error2**2)"
   ]
  },
  {
   "cell_type": "code",
   "execution_count": null,
   "metadata": {},
   "outputs": [],
   "source": []
  }
 ],
 "metadata": {
  "kernelspec": {
   "display_name": "Python 3",
   "language": "python",
   "name": "python3"
  },
  "language_info": {
   "codemirror_mode": {
    "name": "ipython",
    "version": 3
   },
   "file_extension": ".py",
   "mimetype": "text/x-python",
   "name": "python",
   "nbconvert_exporter": "python",
   "pygments_lexer": "ipython3",
   "version": "3.7.5"
  }
 },
 "nbformat": 4,
 "nbformat_minor": 2
}
